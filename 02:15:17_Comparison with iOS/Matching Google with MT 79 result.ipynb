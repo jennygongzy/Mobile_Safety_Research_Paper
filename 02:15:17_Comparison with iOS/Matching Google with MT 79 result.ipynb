{
 "cells": [
  {
   "cell_type": "markdown",
   "metadata": {},
   "source": [
    "## 1. Preliminary Maching "
   ]
  },
  {
   "cell_type": "code",
   "execution_count": 1,
   "metadata": {
    "collapsed": true
   },
   "outputs": [],
   "source": [
    "import pandas as pd\n",
    "import numpy as np \n",
    "import matplotlib as mpt\n",
    "% matplotlib inline "
   ]
  },
  {
   "cell_type": "code",
   "execution_count": 3,
   "metadata": {
    "collapsed": false
   },
   "outputs": [],
   "source": [
    "idf = pd.read_excel('79_MT_itunesgames.xlsx')"
   ]
  },
  {
   "cell_type": "code",
   "execution_count": 14,
   "metadata": {
    "collapsed": false
   },
   "outputs": [
    {
     "data": {
      "text/html": [
       "<div>\n",
       "<table border=\"1\" class=\"dataframe\">\n",
       "  <thead>\n",
       "    <tr style=\"text-align: right;\">\n",
       "      <th></th>\n",
       "      <th>Name</th>\n",
       "      <th>Official Rating</th>\n",
       "      <th>True Rating</th>\n",
       "      <th>Rating Diff Level</th>\n",
       "      <th>Official Rating Level</th>\n",
       "      <th>True Rating Level</th>\n",
       "    </tr>\n",
       "  </thead>\n",
       "  <tbody>\n",
       "    <tr>\n",
       "      <th>0</th>\n",
       "      <td>subway surfers</td>\n",
       "      <td>9</td>\n",
       "      <td>4</td>\n",
       "      <td>1</td>\n",
       "      <td>2</td>\n",
       "      <td>1</td>\n",
       "    </tr>\n",
       "    <tr>\n",
       "      <th>1</th>\n",
       "      <td>temple run</td>\n",
       "      <td>9</td>\n",
       "      <td>9</td>\n",
       "      <td>0</td>\n",
       "      <td>2</td>\n",
       "      <td>2</td>\n",
       "    </tr>\n",
       "    <tr>\n",
       "      <th>2</th>\n",
       "      <td>temple run 2</td>\n",
       "      <td>9</td>\n",
       "      <td>9</td>\n",
       "      <td>0</td>\n",
       "      <td>2</td>\n",
       "      <td>2</td>\n",
       "    </tr>\n",
       "    <tr>\n",
       "      <th>3</th>\n",
       "      <td>clash of clans</td>\n",
       "      <td>9</td>\n",
       "      <td>9</td>\n",
       "      <td>0</td>\n",
       "      <td>2</td>\n",
       "      <td>2</td>\n",
       "    </tr>\n",
       "    <tr>\n",
       "      <th>4</th>\n",
       "      <td>fruit ninja free</td>\n",
       "      <td>4</td>\n",
       "      <td>4</td>\n",
       "      <td>0</td>\n",
       "      <td>1</td>\n",
       "      <td>1</td>\n",
       "    </tr>\n",
       "  </tbody>\n",
       "</table>\n",
       "</div>"
      ],
      "text/plain": [
       "               Name  Official Rating  True Rating  Rating Diff Level  \\\n",
       "0    subway surfers                9            4                  1   \n",
       "1        temple run                9            9                  0   \n",
       "2      temple run 2                9            9                  0   \n",
       "3    clash of clans                9            9                  0   \n",
       "4  fruit ninja free                4            4                  0   \n",
       "\n",
       "   Official Rating Level  True Rating Level  \n",
       "0                      2                  1  \n",
       "1                      2                  2  \n",
       "2                      2                  2  \n",
       "3                      2                  2  \n",
       "4                      1                  1  "
      ]
     },
     "execution_count": 14,
     "metadata": {},
     "output_type": "execute_result"
    }
   ],
   "source": [
    "idf.head(5)"
   ]
  },
  {
   "cell_type": "code",
   "execution_count": 5,
   "metadata": {
    "collapsed": true
   },
   "outputs": [],
   "source": [
    "gdf = pd.read_excel('Whole_Subcategory.xlsx')"
   ]
  },
  {
   "cell_type": "code",
   "execution_count": 13,
   "metadata": {
    "collapsed": false
   },
   "outputs": [
    {
     "data": {
      "text/html": [
       "<div>\n",
       "<table border=\"1\" class=\"dataframe\">\n",
       "  <thead>\n",
       "    <tr style=\"text-align: right;\">\n",
       "      <th></th>\n",
       "      <th>Subcategory</th>\n",
       "      <th>name</th>\n",
       "      <th>apppurl</th>\n",
       "      <th>review_title</th>\n",
       "      <th>review_content</th>\n",
       "      <th>content_rating</th>\n",
       "      <th>content_rating_reason+</th>\n",
       "      <th>icon_url</th>\n",
       "      <th>rating_score</th>\n",
       "      <th>rating_num</th>\n",
       "      <th>current_version</th>\n",
       "      <th>Developer</th>\n",
       "      <th>description</th>\n",
       "    </tr>\n",
       "  </thead>\n",
       "  <tbody>\n",
       "    <tr>\n",
       "      <th>0</th>\n",
       "      <td>Educational</td>\n",
       "      <td>abc kids - tracing &amp; phonics</td>\n",
       "      <td>https://play.google.com/store/apps/details?id=...</td>\n",
       "      <td>Perfectly as stated!;Loved it, until;Lovely;Ex...</td>\n",
       "      <td>Perfectly as stated! No ads!! My 3yo can't ac...</td>\n",
       "      <td>Everyone</td>\n",
       "      <td>NaN</td>\n",
       "      <td>http://lh3.googleusercontent.com/tcbtYwJSxe_J3...</td>\n",
       "      <td>4.3</td>\n",
       "      <td>8703.0</td>\n",
       "      <td>1.1.1</td>\n",
       "      <td>RV AppStudios</td>\n",
       "      <td>Looking for a fun, free, and simple educationa...</td>\n",
       "    </tr>\n",
       "    <tr>\n",
       "      <th>1</th>\n",
       "      <td>Educational</td>\n",
       "      <td>educational games 4 kids</td>\n",
       "      <td>https://play.google.com/store/apps/details?id=...</td>\n",
       "      <td>;;love;;;</td>\n",
       "      <td>My kids like to play  ;  My son love it  ; l...</td>\n",
       "      <td>Everyone</td>\n",
       "      <td>NaN</td>\n",
       "      <td>http://lh3.googleusercontent.com/I-3t7gsJoI411...</td>\n",
       "      <td>4.2</td>\n",
       "      <td>475.0</td>\n",
       "      <td>NaN</td>\n",
       "      <td>pescAPPs</td>\n",
       "      <td>New pescAPPs game! This fun application contai...</td>\n",
       "    </tr>\n",
       "    <tr>\n",
       "      <th>2</th>\n",
       "      <td>Educational</td>\n",
       "      <td>peppa pig: paintbox</td>\n",
       "      <td>https://play.google.com/store/apps/details?id=...</td>\n",
       "      <td>My 4yrs old sister loves this game;Great;Great...</td>\n",
       "      <td>My 4yrs old sister loves this game Download i...</td>\n",
       "      <td>Everyone</td>\n",
       "      <td>NaN</td>\n",
       "      <td>http://lh3.googleusercontent.com/n5BfP13c0JQc7...</td>\n",
       "      <td>3.8</td>\n",
       "      <td>60649.0</td>\n",
       "      <td>1.2.6</td>\n",
       "      <td>Entertainment One</td>\n",
       "      <td>Peppa's Paintbox is a drawing application desi...</td>\n",
       "    </tr>\n",
       "    <tr>\n",
       "      <th>3</th>\n",
       "      <td>Educational</td>\n",
       "      <td>preschool adventures-2</td>\n",
       "      <td>https://play.google.com/store/apps/details?id=...</td>\n",
       "      <td>Can't go to level 4;So fun!;Diggin the work lo...</td>\n",
       "      <td>Can't go to level 4 Even if i paid, i cant un...</td>\n",
       "      <td>Everyone</td>\n",
       "      <td>NaN</td>\n",
       "      <td>http://lh3.googleusercontent.com/U8rfm5VAWM49H...</td>\n",
       "      <td>4.1</td>\n",
       "      <td>1529.0</td>\n",
       "      <td>1.6.4</td>\n",
       "      <td>forqan smart tech</td>\n",
       "      <td>Education puzzles for 4-5 years old children!A...</td>\n",
       "    </tr>\n",
       "    <tr>\n",
       "      <th>4</th>\n",
       "      <td>Educational</td>\n",
       "      <td>fun kids cars</td>\n",
       "      <td>https://play.google.com/store/apps/details?id=...</td>\n",
       "      <td>Greaat;;Good for kids;Fun cars games for kids ...</td>\n",
       "      <td>Greaat Finally a game where he is not constan...</td>\n",
       "      <td>Everyone</td>\n",
       "      <td>NaN</td>\n",
       "      <td>http://lh3.googleusercontent.com/4H5TckrAjiNSa...</td>\n",
       "      <td>4</td>\n",
       "      <td>271.0</td>\n",
       "      <td>1.2</td>\n",
       "      <td>razmobi</td>\n",
       "      <td>Race through the city and beach with these hap...</td>\n",
       "    </tr>\n",
       "  </tbody>\n",
       "</table>\n",
       "</div>"
      ],
      "text/plain": [
       "   Subcategory                          name  \\\n",
       "0  Educational  abc kids - tracing & phonics   \n",
       "1  Educational      educational games 4 kids   \n",
       "2  Educational           peppa pig: paintbox   \n",
       "3  Educational        preschool adventures-2   \n",
       "4  Educational                 fun kids cars   \n",
       "\n",
       "                                             apppurl  \\\n",
       "0  https://play.google.com/store/apps/details?id=...   \n",
       "1  https://play.google.com/store/apps/details?id=...   \n",
       "2  https://play.google.com/store/apps/details?id=...   \n",
       "3  https://play.google.com/store/apps/details?id=...   \n",
       "4  https://play.google.com/store/apps/details?id=...   \n",
       "\n",
       "                                        review_title  \\\n",
       "0  Perfectly as stated!;Loved it, until;Lovely;Ex...   \n",
       "1                                          ;;love;;;   \n",
       "2  My 4yrs old sister loves this game;Great;Great...   \n",
       "3  Can't go to level 4;So fun!;Diggin the work lo...   \n",
       "4  Greaat;;Good for kids;Fun cars games for kids ...   \n",
       "\n",
       "                                      review_content content_rating  \\\n",
       "0   Perfectly as stated! No ads!! My 3yo can't ac...       Everyone   \n",
       "1    My kids like to play  ;  My son love it  ; l...       Everyone   \n",
       "2   My 4yrs old sister loves this game Download i...       Everyone   \n",
       "3   Can't go to level 4 Even if i paid, i cant un...       Everyone   \n",
       "4   Greaat Finally a game where he is not constan...       Everyone   \n",
       "\n",
       "  content_rating_reason+                                           icon_url  \\\n",
       "0                    NaN  http://lh3.googleusercontent.com/tcbtYwJSxe_J3...   \n",
       "1                    NaN  http://lh3.googleusercontent.com/I-3t7gsJoI411...   \n",
       "2                    NaN  http://lh3.googleusercontent.com/n5BfP13c0JQc7...   \n",
       "3                    NaN  http://lh3.googleusercontent.com/U8rfm5VAWM49H...   \n",
       "4                    NaN  http://lh3.googleusercontent.com/4H5TckrAjiNSa...   \n",
       "\n",
       "  rating_score  rating_num current_version          Developer  \\\n",
       "0          4.3      8703.0         1.1.1        RV AppStudios   \n",
       "1          4.2       475.0             NaN           pescAPPs   \n",
       "2          3.8     60649.0         1.2.6    Entertainment One   \n",
       "3          4.1      1529.0         1.6.4    forqan smart tech   \n",
       "4            4       271.0             1.2            razmobi   \n",
       "\n",
       "                                         description  \n",
       "0  Looking for a fun, free, and simple educationa...  \n",
       "1  New pescAPPs game! This fun application contai...  \n",
       "2  Peppa's Paintbox is a drawing application desi...  \n",
       "3  Education puzzles for 4-5 years old children!A...  \n",
       "4  Race through the city and beach with these hap...  "
      ]
     },
     "execution_count": 13,
     "metadata": {},
     "output_type": "execute_result"
    }
   ],
   "source": [
    "gdf.head(5)"
   ]
  },
  {
   "cell_type": "code",
   "execution_count": 12,
   "metadata": {
    "collapsed": false
   },
   "outputs": [],
   "source": [
    "idf['Name']=idf['Name'].str.lower()\n",
    "gdf['name']=gdf['name'].str.lower()"
   ]
  },
  {
   "cell_type": "code",
   "execution_count": 47,
   "metadata": {
    "collapsed": true
   },
   "outputs": [],
   "source": [
    "#drop duplicates\n",
    "#df.drop_duplicates(['based on colname','colname','colname'],keep='last'if want to keep the last one)\n",
    "\n",
    "gdf2 = gdf.drop_duplicates('name')"
   ]
  },
  {
   "cell_type": "code",
   "execution_count": 49,
   "metadata": {
    "collapsed": false
   },
   "outputs": [
    {
     "data": {
      "text/plain": [
       "(4689, 13)"
      ]
     },
     "execution_count": 49,
     "metadata": {},
     "output_type": "execute_result"
    }
   ],
   "source": [
    "gdf.shape"
   ]
  },
  {
   "cell_type": "code",
   "execution_count": 48,
   "metadata": {
    "collapsed": false
   },
   "outputs": [
    {
     "data": {
      "text/plain": [
       "(3292, 13)"
      ]
     },
     "execution_count": 48,
     "metadata": {},
     "output_type": "execute_result"
    }
   ],
   "source": [
    "gdf2.shape"
   ]
  },
  {
   "cell_type": "code",
   "execution_count": 51,
   "metadata": {
    "collapsed": true
   },
   "outputs": [],
   "source": [
    "#assign the drop_duplicates gdf2 to a gdf \n",
    "gdf = gdf2 "
   ]
  },
  {
   "cell_type": "code",
   "execution_count": null,
   "metadata": {
    "collapsed": false
   },
   "outputs": [],
   "source": [
    "gdf.to_excel('Google_no_duplicates.xlsx')"
   ]
  },
  {
   "cell_type": "code",
   "execution_count": 75,
   "metadata": {
    "collapsed": true
   },
   "outputs": [],
   "source": [
    "idf.to_excel('iTunes_MT_lowercase.xlsx')"
   ]
  },
  {
   "cell_type": "code",
   "execution_count": 72,
   "metadata": {
    "collapsed": false
   },
   "outputs": [],
   "source": [
    "index = []\n",
    "for iname in idf['Name']:\n",
    "    try:\n",
    "        xxx=gdf['name'].str.contains(str(iname))\n",
    "        indexnum = xxx[xxx == True].index[0]\n",
    "        index.append(indexnum)\n",
    "    except:\n",
    "        index.append(-1)\n",
    "        \n"
   ]
  },
  {
   "cell_type": "code",
   "execution_count": 67,
   "metadata": {
    "collapsed": false
   },
   "outputs": [
    {
     "data": {
      "text/plain": [
       "Subcategory                                                          Casual\n",
       "name                                         kitchen scramble: cooking game\n",
       "apppurl                   https://play.google.com/store/apps/details?id=...\n",
       "review_title              Much improvement!;Love it, but..;Need Internet...\n",
       "review_content             Much improvement! No more problems except gam...\n",
       "content_rating                                                     Everyone\n",
       "content_rating_reason+                                                  NaN\n",
       "icon_url                  http://lh3.googleusercontent.com/HXi834VlIFbUo...\n",
       "rating_score                                                            3.9\n",
       "rating_num                                                           311900\n",
       "current_version                                                     3.2.0  \n",
       "Developer                                                      Rockyou Inc.\n",
       "description               What makes Kitchen Scramble: Cooking Game the ...\n",
       "Name: 403, dtype: object"
      ]
     },
     "execution_count": 67,
     "metadata": {},
     "output_type": "execute_result"
    }
   ],
   "source": [
    "xxx = gdf['name'].str.match(str(idf['Name'][0])) #use contains, not match \n",
    "index = xxx[xxx==True].index[0] # get the index number of the series xxx\n",
    "gdf.iloc[index] "
   ]
  },
  {
   "cell_type": "code",
   "execution_count": 57,
   "metadata": {
    "collapsed": false
   },
   "outputs": [
    {
     "data": {
      "text/plain": [
       "354    True\n",
       "Name: name, dtype: object"
      ]
     },
     "execution_count": 57,
     "metadata": {},
     "output_type": "execute_result"
    }
   ],
   "source": [
    "xxx = gdf['name'].str.match(str(idf['Name'][0])) #'subway surfers'\n",
    "xxx[xxx==True]"
   ]
  },
  {
   "cell_type": "code",
   "execution_count": 55,
   "metadata": {
    "collapsed": false
   },
   "outputs": [
    {
     "data": {
      "text/plain": [
       "Subcategory                                                          Casual\n",
       "name                                         kitchen scramble: cooking game\n",
       "apppurl                   https://play.google.com/store/apps/details?id=...\n",
       "review_title              Much improvement!;Love it, but..;Need Internet...\n",
       "review_content             Much improvement! No more problems except gam...\n",
       "content_rating                                                     Everyone\n",
       "content_rating_reason+                                                  NaN\n",
       "icon_url                  http://lh3.googleusercontent.com/HXi834VlIFbUo...\n",
       "rating_score                                                            3.9\n",
       "rating_num                                                           311900\n",
       "current_version                                                     3.2.0  \n",
       "Developer                                                      Rockyou Inc.\n",
       "description               What makes Kitchen Scramble: Cooking Game the ...\n",
       "Name: 403, dtype: object"
      ]
     },
     "execution_count": 55,
     "metadata": {},
     "output_type": "execute_result"
    }
   ],
   "source": [
    "gdf.iloc[354]"
   ]
  },
  {
   "cell_type": "code",
   "execution_count": 73,
   "metadata": {
    "collapsed": false
   },
   "outputs": [
    {
     "data": {
      "text/plain": [
       "[354,\n",
       " 352,\n",
       " 356,\n",
       " 1649,\n",
       " 1521,\n",
       " 366,\n",
       " -1,\n",
       " 353,\n",
       " 1264,\n",
       " 236,\n",
       " 1252,\n",
       " -1,\n",
       " 1239,\n",
       " 4493,\n",
       " -1,\n",
       " 365,\n",
       " 1737,\n",
       " 1651,\n",
       " 220,\n",
       " -1,\n",
       " 1323,\n",
       " 274,\n",
       " 2996,\n",
       " -1,\n",
       " 1298,\n",
       " -1,\n",
       " 1655,\n",
       " -1,\n",
       " 1797,\n",
       " 599,\n",
       " -1,\n",
       " 1001,\n",
       " 1266,\n",
       " 1523,\n",
       " -1,\n",
       " 1241,\n",
       " 1404,\n",
       " -1,\n",
       " 432,\n",
       " -1,\n",
       " -1,\n",
       " 1608,\n",
       " -1,\n",
       " 3421,\n",
       " -1,\n",
       " 1762,\n",
       " -1,\n",
       " -1,\n",
       " 1303,\n",
       " -1,\n",
       " 1235,\n",
       " 1631,\n",
       " 1454,\n",
       " 3380,\n",
       " 1753,\n",
       " -1,\n",
       " 4641,\n",
       " 1408,\n",
       " 1263,\n",
       " 99,\n",
       " -1,\n",
       " -1,\n",
       " 1590,\n",
       " 4570,\n",
       " -1,\n",
       " -1,\n",
       " -1,\n",
       " -1,\n",
       " -1,\n",
       " -1,\n",
       " -1,\n",
       " -1,\n",
       " -1,\n",
       " -1,\n",
       " 1275,\n",
       " 1595,\n",
       " 426,\n",
       " -1,\n",
       " 461]"
      ]
     },
     "execution_count": 73,
     "metadata": {},
     "output_type": "execute_result"
    }
   ],
   "source": [
    "index"
   ]
  },
  {
   "cell_type": "code",
   "execution_count": 76,
   "metadata": {
    "collapsed": false
   },
   "outputs": [
    {
     "data": {
      "text/plain": [
       "48"
      ]
     },
     "execution_count": 76,
     "metadata": {},
     "output_type": "execute_result"
    }
   ],
   "source": [
    "count =0 \n",
    "for i in index:\n",
    "    if i!=-1: \n",
    "        count+=1\n",
    "count "
   ]
  },
  {
   "cell_type": "markdown",
   "metadata": {},
   "source": [
    "## 2. Dealing with NAs"
   ]
  },
  {
   "cell_type": "code",
   "execution_count": 78,
   "metadata": {
    "collapsed": false
   },
   "outputs": [],
   "source": [
    "#NA urls \n",
    "naurls= {11:'https://play.google.com/store/apps/details?id=com.appgamekids.thelittle.racingpenguinfree',\n",
    "         14:'https://play.google.com/store/apps/details?id=no.dirtybit.funrun',\n",
    "         27:'https://play.google.com/store/apps/details?id=com.fluik.OfficeJerkFree', \n",
    "        29:'https://play.google.com/store/apps/details?id=com.ketchapp.stack',\n",
    "        34:'https://play.google.com/store/apps/details?id=com.zombieHappy.HappyWheels',\n",
    "        37:'https://play.google.com/store/apps/details?id=SOFTlucions.MouseMaze',\n",
    "        40:'https://play.google.com/store/apps/details?id=com.gamevillestudio.neonski',\n",
    "        42:'https://play.google.com/store/apps/details?id=com.spungegames.failybrakes',\n",
    "        44:'https://play.google.com/store/apps/details?id=com.linkdesks.theline',\n",
    "        46:'https://play.google.com/store/apps/details?id=com.gamehivecorp.beattheboss3',\n",
    "        47:'https://play.google.com/store/apps/details?id=com.naquatic.shootingshowdown',\n",
    "        60:'https://play.google.com/store/apps/details?id=com.mcneilly.airwing',\n",
    "        64:'https://play.google.com/store/apps/details?id=com.tatem.dinhunter',\n",
    "        65:'https://play.google.com/store/apps/details?id=com.secretexit.dismount',\n",
    "        66:'https://play.google.com/store/apps/details?id=com.ketchapp.donttouchthespikes',\n",
    "        67:'https://play.google.com/store/apps/details?id=com.ifreyrgames.starwarfare',\n",
    "        69:'https://play.google.com/store/apps/details?id=com.ketchapp.tower',\n",
    "        70:'https://play.google.com/store/apps/details?id=com.teotlstudios.slenderrisingfree',\n",
    "        72:'https://play.google.com/store/apps/details?id=com.disney.disneycrossyroad_goo',\n",
    "        77:'https://play.google.com/store/apps/details?id=ca.roofdog.roadtrip'}"
   ]
  },
  {
   "cell_type": "code",
   "execution_count": null,
   "metadata": {
    "collapsed": true
   },
   "outputs": [],
   "source": [
    "from bs4 import BeautifulSoup\n",
    "import requests\n",
    "import re\n",
    "\n",
    "f=open('NAurls.txt','w')\n",
    "\n",
    "naurls= {11:'https://play.google.com/store/apps/details?id=com.appgamekids.thelittle.racingpenguinfree',\n",
    "         14:'https://play.google.com/store/apps/details?id=no.dirtybit.funrun',\n",
    "         27:'https://play.google.com/store/apps/details?id=com.fluik.OfficeJerkFree', \n",
    "        29:'https://play.google.com/store/apps/details?id=com.ketchapp.stack',\n",
    "        34:'https://play.google.com/store/apps/details?id=com.zombieHappy.HappyWheels',\n",
    "        37:'https://play.google.com/store/apps/details?id=SOFTlucions.MouseMaze',\n",
    "        40:'https://play.google.com/store/apps/details?id=com.gamevillestudio.neonski',\n",
    "        42:'https://play.google.com/store/apps/details?id=com.spungegames.failybrakes',\n",
    "        44:'https://play.google.com/store/apps/details?id=com.linkdesks.theline',\n",
    "        46:'https://play.google.com/store/apps/details?id=com.gamehivecorp.beattheboss3',\n",
    "        47:'https://play.google.com/store/apps/details?id=com.naquatic.shootingshowdown',\n",
    "        60:'https://play.google.com/store/apps/details?id=com.mcneilly.airwing',\n",
    "        64:'https://play.google.com/store/apps/details?id=com.tatem.dinhunter',\n",
    "        65:'https://play.google.com/store/apps/details?id=com.secretexit.dismount',\n",
    "        66:'https://play.google.com/store/apps/details?id=com.ketchapp.donttouchthespikes',\n",
    "        67:'https://play.google.com/store/apps/details?id=com.ifreyrgames.starwarfare',\n",
    "        69:'https://play.google.com/store/apps/details?id=com.ketchapp.tower',\n",
    "        70:'https://play.google.com/store/apps/details?id=com.teotlstudios.slenderrisingfree',\n",
    "        72:'https://play.google.com/store/apps/details?id=com.disney.disneycrossyroad_goo',\n",
    "        77:'https://play.google.com/store/apps/details?id=ca.roofdog.roadtrip'}\n",
    "\n",
    "def description(soup):\n",
    "    #this function parse the description text, and put them into one string\n",
    "    deslist=[]\n",
    "    tag=soup.find('div',jsname='C4s9Ed')\n",
    "    deslist.append(tag.get_text())\n",
    "    for item in tag.find_all('p'):\n",
    "        try: \n",
    "            for i in item.contents: \n",
    "                deslist.append(item.contents[i].get_text())\n",
    "        except: \n",
    "            deslist.append(item.get_text())\n",
    "    for item in deslist:\n",
    "        item.replace('\\t',' ')\n",
    "        item.replace('\\n',' ')\n",
    "    desstr=' '.join(deslist) \n",
    "    return desstr\n",
    "\n",
    "headerstr = str('name\\tapppurl\\treview_title\\treview_content\\t'+\n",
    "                'content_rating\\tcontent_rating_reason+\\ticon_url\\trating_score\\t'+\n",
    "                'rating_num\\tcurrent_version\\tDeveloper\\tdescription\\n')\n",
    "f.write(headerstr)\n",
    "\n",
    "for k,url in naurls.items():\n",
    "    req=requests.get(url)\n",
    "    psoup=BeautifulSoup(req.text,'html.parser')\n",
    "    \n",
    "    name = psoup.find('div',class_='id-app-title').get_text()\n",
    "    try:\n",
    "        review_score = psoup.find('div',class_='score').get_text()\n",
    "        review_num = psoup.find('span',class_='reviews-num').get_text()\n",
    "    except:\n",
    "        review_score='NA'\n",
    "        review_num='NA'\n",
    "        \n",
    "    date_published = psoup.find('div',class_='content',itemprop='datePublished').get_text()\n",
    "\n",
    "    try:\n",
    "        current_version = psoup.find('div',itemprop='softwareVersion').get_text()\n",
    "    except:\n",
    "        current_version = 'NA'\n",
    "    seller = psoup.find(string=re.compile('Offered By')).find_previous('div').find_next_sibling('div').get_text()\n",
    "    des = description(psoup)\n",
    "\n",
    "    review_title_list=[tag.find(class_='review-title').get_text() for tag in psoup.find_all('div',class_='review-text')]\n",
    "    review_title = ';'.join(review_title_list)\n",
    "    review_content_list=[tag.get_text() for tag in psoup.find_all('div',class_='review-text')]\n",
    "    review_content = ';'.join(review_content_list)\n",
    "\n",
    "    content_rating = psoup.find(class_='content',itemprop='contentRating').get_text()\n",
    "    if psoup.find(class_='content',itemprop='contentRating').next_sibling.next_sibling.get_text()=='Learn more':\n",
    "        content_rating_reason ='NA'\n",
    "    else:\n",
    "        content_rating_reason = psoup.find(class_='content',itemprop='contentRating').next_sibling.next_sibling.get_text()\n",
    "   \n",
    "    icon_url = 'http:'+str(psoup.find('img',class_='cover-image').get('src'))\n",
    "\n",
    "    writestr = (str(k)+'\\t'+name+'\\t'+str(url)+'\\t'+review_title+'\\t'+review_content+'\\t'+\n",
    "                content_rating+'\\t'+content_rating_reason+'\\t'+icon_url+'\\t'+review_score+'\\t'\n",
    "                +review_num+'\\t'+current_version+'\\t'+seller+'\\t'+des+'\\n')\n",
    "\n",
    "    #print writestr\n",
    "    f.write(writestr.encode('ascii',errors='ignore'))\n",
    "\n",
    "f.close()"
   ]
  }
 ],
 "metadata": {
  "anaconda-cloud": {},
  "kernelspec": {
   "display_name": "Python [default]",
   "language": "python",
   "name": "python2"
  },
  "language_info": {
   "codemirror_mode": {
    "name": "ipython",
    "version": 2
   },
   "file_extension": ".py",
   "mimetype": "text/x-python",
   "name": "python",
   "nbconvert_exporter": "python",
   "pygments_lexer": "ipython2",
   "version": "2.7.12"
  }
 },
 "nbformat": 4,
 "nbformat_minor": 1
}
