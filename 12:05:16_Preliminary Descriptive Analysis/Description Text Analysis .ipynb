{
 "cells": [
  {
   "cell_type": "markdown",
   "metadata": {},
   "source": [
    "This is a Text Analysis on all the Description part of Google Play apps. \n",
    "3292 apps in total. "
   ]
  },
  {
   "cell_type": "code",
   "execution_count": 29,
   "metadata": {
    "collapsed": true
   },
   "outputs": [],
   "source": [
    "import nltk \n",
    "import pandas as pd \n",
    "from nltk.tokenize import *\n",
    "tokenizer = RegexpTokenizer(r'\\w+')\n",
    "from nltk.corpus import *\n",
    "import re\n",
    "from nltk.stem import * \n",
    "from nltk import FreqDist\n",
    "import math\n",
    "import matplotlib \n",
    "%matplotlib inline"
   ]
  },
  {
   "cell_type": "code",
   "execution_count": 3,
   "metadata": {
    "collapsed": false
   },
   "outputs": [
    {
     "data": {
      "text/html": [
       "<div>\n",
       "<table border=\"1\" class=\"dataframe\">\n",
       "  <thead>\n",
       "    <tr style=\"text-align: right;\">\n",
       "      <th></th>\n",
       "      <th>Subcategory</th>\n",
       "      <th>name</th>\n",
       "      <th>apppurl</th>\n",
       "      <th>review_title</th>\n",
       "      <th>review_content</th>\n",
       "      <th>content_rating</th>\n",
       "      <th>content_rating_reason+</th>\n",
       "      <th>icon_url</th>\n",
       "      <th>rating_score</th>\n",
       "      <th>rating_num</th>\n",
       "      <th>current_version</th>\n",
       "      <th>Developer</th>\n",
       "      <th>description</th>\n",
       "    </tr>\n",
       "  </thead>\n",
       "  <tbody>\n",
       "    <tr>\n",
       "      <th>0</th>\n",
       "      <td>Educational</td>\n",
       "      <td>ABC Kids - Tracing &amp; Phonics</td>\n",
       "      <td>https://play.google.com/store/apps/details?id=...</td>\n",
       "      <td>Perfectly as stated!;Loved it, until;Lovely;Ex...</td>\n",
       "      <td>Perfectly as stated! No ads!! My 3yo can't ac...</td>\n",
       "      <td>Everyone</td>\n",
       "      <td>NaN</td>\n",
       "      <td>http://lh3.googleusercontent.com/tcbtYwJSxe_J3...</td>\n",
       "      <td>4.3</td>\n",
       "      <td>8703.0</td>\n",
       "      <td>1.1.1</td>\n",
       "      <td>RV AppStudios</td>\n",
       "      <td>Looking for a fun, free, and simple educationa...</td>\n",
       "    </tr>\n",
       "    <tr>\n",
       "      <th>1</th>\n",
       "      <td>Educational</td>\n",
       "      <td>Educational Games 4 Kids</td>\n",
       "      <td>https://play.google.com/store/apps/details?id=...</td>\n",
       "      <td>;;love;;;</td>\n",
       "      <td>My kids like to play  ;  My son love it  ; l...</td>\n",
       "      <td>Everyone</td>\n",
       "      <td>NaN</td>\n",
       "      <td>http://lh3.googleusercontent.com/I-3t7gsJoI411...</td>\n",
       "      <td>4.2</td>\n",
       "      <td>475.0</td>\n",
       "      <td>NaN</td>\n",
       "      <td>pescAPPs</td>\n",
       "      <td>New pescAPPs game! This fun application contai...</td>\n",
       "    </tr>\n",
       "    <tr>\n",
       "      <th>2</th>\n",
       "      <td>Educational</td>\n",
       "      <td>Peppa Pig: Paintbox</td>\n",
       "      <td>https://play.google.com/store/apps/details?id=...</td>\n",
       "      <td>My 4yrs old sister loves this game;Great;Great...</td>\n",
       "      <td>My 4yrs old sister loves this game Download i...</td>\n",
       "      <td>Everyone</td>\n",
       "      <td>NaN</td>\n",
       "      <td>http://lh3.googleusercontent.com/n5BfP13c0JQc7...</td>\n",
       "      <td>3.8</td>\n",
       "      <td>60649.0</td>\n",
       "      <td>1.2.6</td>\n",
       "      <td>Entertainment One</td>\n",
       "      <td>Peppa's Paintbox is a drawing application desi...</td>\n",
       "    </tr>\n",
       "    <tr>\n",
       "      <th>3</th>\n",
       "      <td>Educational</td>\n",
       "      <td>Preschool Adventures-2</td>\n",
       "      <td>https://play.google.com/store/apps/details?id=...</td>\n",
       "      <td>Can't go to level 4;So fun!;Diggin the work lo...</td>\n",
       "      <td>Can't go to level 4 Even if i paid, i cant un...</td>\n",
       "      <td>Everyone</td>\n",
       "      <td>NaN</td>\n",
       "      <td>http://lh3.googleusercontent.com/U8rfm5VAWM49H...</td>\n",
       "      <td>4.1</td>\n",
       "      <td>1529.0</td>\n",
       "      <td>1.6.4</td>\n",
       "      <td>forqan smart tech</td>\n",
       "      <td>Education puzzles for 4-5 years old children!A...</td>\n",
       "    </tr>\n",
       "    <tr>\n",
       "      <th>4</th>\n",
       "      <td>Educational</td>\n",
       "      <td>Fun Kids Cars</td>\n",
       "      <td>https://play.google.com/store/apps/details?id=...</td>\n",
       "      <td>Greaat;;Good for kids;Fun cars games for kids ...</td>\n",
       "      <td>Greaat Finally a game where he is not constan...</td>\n",
       "      <td>Everyone</td>\n",
       "      <td>NaN</td>\n",
       "      <td>http://lh3.googleusercontent.com/4H5TckrAjiNSa...</td>\n",
       "      <td>4</td>\n",
       "      <td>271.0</td>\n",
       "      <td>1.2</td>\n",
       "      <td>razmobi</td>\n",
       "      <td>Race through the city and beach with these hap...</td>\n",
       "    </tr>\n",
       "  </tbody>\n",
       "</table>\n",
       "</div>"
      ],
      "text/plain": [
       "   Subcategory                          name  \\\n",
       "0  Educational  ABC Kids - Tracing & Phonics   \n",
       "1  Educational      Educational Games 4 Kids   \n",
       "2  Educational           Peppa Pig: Paintbox   \n",
       "3  Educational        Preschool Adventures-2   \n",
       "4  Educational                 Fun Kids Cars   \n",
       "\n",
       "                                             apppurl  \\\n",
       "0  https://play.google.com/store/apps/details?id=...   \n",
       "1  https://play.google.com/store/apps/details?id=...   \n",
       "2  https://play.google.com/store/apps/details?id=...   \n",
       "3  https://play.google.com/store/apps/details?id=...   \n",
       "4  https://play.google.com/store/apps/details?id=...   \n",
       "\n",
       "                                        review_title  \\\n",
       "0  Perfectly as stated!;Loved it, until;Lovely;Ex...   \n",
       "1                                          ;;love;;;   \n",
       "2  My 4yrs old sister loves this game;Great;Great...   \n",
       "3  Can't go to level 4;So fun!;Diggin the work lo...   \n",
       "4  Greaat;;Good for kids;Fun cars games for kids ...   \n",
       "\n",
       "                                      review_content content_rating  \\\n",
       "0   Perfectly as stated! No ads!! My 3yo can't ac...       Everyone   \n",
       "1    My kids like to play  ;  My son love it  ; l...       Everyone   \n",
       "2   My 4yrs old sister loves this game Download i...       Everyone   \n",
       "3   Can't go to level 4 Even if i paid, i cant un...       Everyone   \n",
       "4   Greaat Finally a game where he is not constan...       Everyone   \n",
       "\n",
       "  content_rating_reason+                                           icon_url  \\\n",
       "0                    NaN  http://lh3.googleusercontent.com/tcbtYwJSxe_J3...   \n",
       "1                    NaN  http://lh3.googleusercontent.com/I-3t7gsJoI411...   \n",
       "2                    NaN  http://lh3.googleusercontent.com/n5BfP13c0JQc7...   \n",
       "3                    NaN  http://lh3.googleusercontent.com/U8rfm5VAWM49H...   \n",
       "4                    NaN  http://lh3.googleusercontent.com/4H5TckrAjiNSa...   \n",
       "\n",
       "  rating_score  rating_num current_version          Developer  \\\n",
       "0          4.3      8703.0         1.1.1        RV AppStudios   \n",
       "1          4.2       475.0             NaN           pescAPPs   \n",
       "2          3.8     60649.0         1.2.6    Entertainment One   \n",
       "3          4.1      1529.0         1.6.4    forqan smart tech   \n",
       "4            4       271.0             1.2            razmobi   \n",
       "\n",
       "                                         description  \n",
       "0  Looking for a fun, free, and simple educationa...  \n",
       "1  New pescAPPs game! This fun application contai...  \n",
       "2  Peppa's Paintbox is a drawing application desi...  \n",
       "3  Education puzzles for 4-5 years old children!A...  \n",
       "4  Race through the city and beach with these hap...  "
      ]
     },
     "execution_count": 3,
     "metadata": {},
     "output_type": "execute_result"
    }
   ],
   "source": [
    "df = pd.read_excel('Whole_Subcategory.xlsx')\n",
    "df.head(5)"
   ]
  },
  {
   "cell_type": "code",
   "execution_count": 5,
   "metadata": {
    "collapsed": false
   },
   "outputs": [
    {
     "data": {
      "text/plain": [
       "(4689, 13)"
      ]
     },
     "execution_count": 5,
     "metadata": {},
     "output_type": "execute_result"
    }
   ],
   "source": [
    "df.shape"
   ]
  },
  {
   "cell_type": "code",
   "execution_count": 7,
   "metadata": {
    "collapsed": false
   },
   "outputs": [],
   "source": [
    "df['name']= df['name'].str.lower()\n",
    "df = df.drop_duplicates('name')"
   ]
  },
  {
   "cell_type": "code",
   "execution_count": 8,
   "metadata": {
    "collapsed": false
   },
   "outputs": [
    {
     "data": {
      "text/plain": [
       "(3292, 13)"
      ]
     },
     "execution_count": 8,
     "metadata": {},
     "output_type": "execute_result"
    }
   ],
   "source": [
    "df.shape"
   ]
  },
  {
   "cell_type": "code",
   "execution_count": 9,
   "metadata": {
    "collapsed": true
   },
   "outputs": [],
   "source": [
    "df1 = df[df['content_rating']=='Everyone']\n",
    "df2 = df[df['content_rating']=='Everyone 10+']\n",
    "df3 = df[df['content_rating']=='Teen']\n",
    "df4 = df[df['content_rating']=='Mature 17+']"
   ]
  },
  {
   "cell_type": "code",
   "execution_count": 10,
   "metadata": {
    "collapsed": false
   },
   "outputs": [
    {
     "data": {
      "text/plain": [
       "(2076, 13)"
      ]
     },
     "execution_count": 10,
     "metadata": {},
     "output_type": "execute_result"
    }
   ],
   "source": [
    "df1.shape"
   ]
  },
  {
   "cell_type": "code",
   "execution_count": 11,
   "metadata": {
    "collapsed": false
   },
   "outputs": [
    {
     "data": {
      "text/plain": [
       "(351, 13)"
      ]
     },
     "execution_count": 11,
     "metadata": {},
     "output_type": "execute_result"
    }
   ],
   "source": [
    "df2.shape"
   ]
  },
  {
   "cell_type": "code",
   "execution_count": 12,
   "metadata": {
    "collapsed": false
   },
   "outputs": [
    {
     "data": {
      "text/plain": [
       "(731, 13)"
      ]
     },
     "execution_count": 12,
     "metadata": {},
     "output_type": "execute_result"
    }
   ],
   "source": [
    "df3.shape"
   ]
  },
  {
   "cell_type": "code",
   "execution_count": 13,
   "metadata": {
    "collapsed": false
   },
   "outputs": [
    {
     "data": {
      "text/plain": [
       "(97, 13)"
      ]
     },
     "execution_count": 13,
     "metadata": {},
     "output_type": "execute_result"
    }
   ],
   "source": [
    "df4.shape"
   ]
  },
  {
   "cell_type": "code",
   "execution_count": 17,
   "metadata": {
    "collapsed": true
   },
   "outputs": [],
   "source": [
    "#Preliminary text process \n",
    "def process_all(inputdf):\n",
    "    des = inputdf['description']\n",
    "    des = des.str.lower()\n",
    "    des = des.reset_index()\n",
    "    des = des['description']\n",
    "    \n",
    "    ##tokenize\n",
    "    tokens= []\n",
    "    for i in range(len(des)):\n",
    "        tokens = tokens + tokenizer.tokenize(str(des[i])) \n",
    "         # + to make all of them into a list, not a list group \n",
    "        tokens_new=[]\n",
    "    #remove digit and only one letter word\n",
    "    for word in tokens: \n",
    "        if not (word.isdigit() or re.match(r'^[a-z]$',word)):\n",
    "            tokens_new.append(word)\n",
    "            \n",
    "    #remove stop word\n",
    "    stop_words = set(stopwords.words(\"english\"))\n",
    "    tokens2 = [w for w in tokens_new if not w in stop_words]\n",
    "    \n",
    "    #stemming\n",
    "    wnl = WordNetLemmatizer()\n",
    "    token3=[wnl.lemmatize(w) for w in tokens2]\n",
    "    \n",
    "    \n",
    "    wordfreq = FreqDist(token3)\n",
    "    \n",
    "    return wordfreq"
   ]
  },
  {
   "cell_type": "code",
   "execution_count": 18,
   "metadata": {
    "collapsed": false
   },
   "outputs": [],
   "source": [
    "freq_all = process_all(df)"
   ]
  },
  {
   "cell_type": "code",
   "execution_count": 21,
   "metadata": {
    "collapsed": false
   },
   "outputs": [
    {
     "data": {
      "text/plain": [
       "(27709, 1)"
      ]
     },
     "execution_count": 21,
     "metadata": {},
     "output_type": "execute_result"
    }
   ],
   "source": [
    "freqall_df = pd.DataFrame.from_dict(freq_all, orient = 'index')\n",
    "freqall_df = freqall_df.sort_values([0],ascending = [False])\n",
    "freqall_df.shape"
   ]
  },
  {
   "cell_type": "code",
   "execution_count": 37,
   "metadata": {
    "collapsed": false
   },
   "outputs": [
    {
     "data": {
      "text/plain": [
       "[u'game',\n",
       " 'com',\n",
       " 'play',\n",
       " 'http',\n",
       " 'www',\n",
       " 'facebook',\n",
       " 'new',\n",
       " u'u',\n",
       " 'free',\n",
       " 'world',\n",
       " 'level',\n",
       " 'app',\n",
       " 'player',\n",
       " u'feature',\n",
       " 'use',\n",
       " 'get',\n",
       " u'friend',\n",
       " 'time',\n",
       " 'real',\n",
       " 'mode',\n",
       " 'like',\n",
       " 'fun',\n",
       " 'twitter',\n",
       " 'best',\n",
       " 'device',\n",
       " 'support',\n",
       " u'make',\n",
       " 'privacy',\n",
       " u'one',\n",
       " u'battle',\n",
       " u'purchase',\n",
       " 'please',\n",
       " 'different',\n",
       " 'help',\n",
       " u'puzzle',\n",
       " 'policy',\n",
       " 'challenge',\n",
       " u'item',\n",
       " 'may',\n",
       " 'experience',\n",
       " u'take',\n",
       " u'skill',\n",
       " u'term',\n",
       " u'control',\n",
       " u'word',\n",
       " 'character',\n",
       " 'unique',\n",
       " 'find',\n",
       " u'graphic',\n",
       " 'google',\n",
       " 'mobile',\n",
       " 'way',\n",
       " 'also',\n",
       " 'available',\n",
       " u'enemy',\n",
       " 'download',\n",
       " 'service',\n",
       " 'collect',\n",
       " 'money',\n",
       " 'win',\n",
       " 'user',\n",
       " 'unlock',\n",
       " 'every',\n",
       " 'android',\n",
       " 'online',\n",
       " u'hero',\n",
       " 'choose',\n",
       " u'adventure',\n",
       " 'love',\n",
       " 'power',\n",
       " 'follow',\n",
       " u'car',\n",
       " 'note',\n",
       " 'gameplay',\n",
       " 'team',\n",
       " 'enjoy',\n",
       " u'card',\n",
       " 'special',\n",
       " 'playing',\n",
       " 'easy',\n",
       " 'score',\n",
       " 'even',\n",
       " u'star',\n",
       " u'need',\n",
       " 'many',\n",
       " 'high',\n",
       " 'upgrade',\n",
       " 'go',\n",
       " 'right',\n",
       " 'want',\n",
       " u'story',\n",
       " '3d',\n",
       " 'information',\n",
       " 'city',\n",
       " 'full',\n",
       " 'action',\n",
       " 'visit',\n",
       " 'see',\n",
       " 'join',\n",
       " 'system',\n",
       " 'build',\n",
       " 'fight',\n",
       " 'create',\n",
       " 'become',\n",
       " u'setting',\n",
       " 'contact',\n",
       " 'social',\n",
       " 'monster',\n",
       " 'multiplayer',\n",
       " u'update',\n",
       " 'earn',\n",
       " 'bonus',\n",
       " 'mission',\n",
       " 'start',\n",
       " 'simulator',\n",
       " u'kid',\n",
       " u'life',\n",
       " 'around',\n",
       " 'screen',\n",
       " 'top',\n",
       " 'reward',\n",
       " u'war',\n",
       " 'let',\n",
       " 'data',\n",
       " 'try',\n",
       " 'touch',\n",
       " 'match',\n",
       " u'day',\n",
       " 'powerful',\n",
       " u'weapon',\n",
       " u'achievement',\n",
       " u'animal',\n",
       " 'racing',\n",
       " 'youtube',\n",
       " 'including',\n",
       " 'content',\n",
       " 'based',\n",
       " u'sound',\n",
       " 'tablet',\n",
       " 'gameloft',\n",
       " 'race',\n",
       " 'complete',\n",
       " 'music',\n",
       " 'great',\n",
       " 'learn',\n",
       " u'keep',\n",
       " 'using',\n",
       " u'version',\n",
       " 'run',\n",
       " 'save',\n",
       " 'challenging',\n",
       " 'give',\n",
       " 'application',\n",
       " 'amazing',\n",
       " 'strategy',\n",
       " u'child',\n",
       " 'phone',\n",
       " 'exciting',\n",
       " 'internet',\n",
       " 'simple',\n",
       " 'attack',\n",
       " 'tap',\n",
       " 'explore',\n",
       " 'big',\n",
       " 'slot',\n",
       " 'first',\n",
       " u'permission',\n",
       " u'set',\n",
       " 'poker',\n",
       " 'realistic',\n",
       " 'additional',\n",
       " 'check',\n",
       " u'come',\n",
       " 'party',\n",
       " 'speed',\n",
       " 'style',\n",
       " 'end',\n",
       " 'master',\n",
       " 'epic',\n",
       " 'option',\n",
       " 'zombie',\n",
       " 'super',\n",
       " u'color',\n",
       " u'ad',\n",
       " u'fan',\n",
       " u'point',\n",
       " u'problem',\n",
       " u'event',\n",
       " 'beautiful',\n",
       " 'bingo',\n",
       " 'ability',\n",
       " 'apps',\n",
       " u'number',\n",
       " 'network',\n",
       " 'move',\n",
       " 'show',\n",
       " 'daily',\n",
       " u'store',\n",
       " 'turn',\n",
       " 'connection',\n",
       " 'opponent',\n",
       " 'never',\n",
       " 'classic',\n",
       " 'favorite',\n",
       " 'studio',\n",
       " 'fast',\n",
       " 'quest',\n",
       " 'awesome',\n",
       " 'much',\n",
       " 'compete',\n",
       " 'hidden',\n",
       " 'age',\n",
       " 'watch',\n",
       " u'question',\n",
       " u'effect',\n",
       " 'official',\n",
       " 'must',\n",
       " 'hand',\n",
       " 'english',\n",
       " 'back',\n",
       " 'look',\n",
       " u'page',\n",
       " u'button',\n",
       " 'two',\n",
       " 'perfect',\n",
       " 'discover',\n",
       " 'offer',\n",
       " 'multiple',\n",
       " u'dragon',\n",
       " u'type',\n",
       " 'link',\n",
       " 'progress',\n",
       " u'video',\n",
       " 'track',\n",
       " u'board',\n",
       " 'customize',\n",
       " u'lot',\n",
       " 'ultimate',\n",
       " u'dungeon',\n",
       " 'ever',\n",
       " 'access',\n",
       " 'map',\n",
       " 'well',\n",
       " 'design',\n",
       " u'object',\n",
       " u'coin',\n",
       " 'work',\n",
       " 'feel',\n",
       " 'always',\n",
       " 'various',\n",
       " 'three',\n",
       " u'defense',\n",
       " 'leaderboards',\n",
       " 'collection',\n",
       " 'building',\n",
       " 'original',\n",
       " 'required',\n",
       " 'jump',\n",
       " 'requires',\n",
       " 'casino',\n",
       " 'site',\n",
       " 'share',\n",
       " 'ready',\n",
       " 'across',\n",
       " 'ball',\n",
       " 'environment',\n",
       " u'customer',\n",
       " 'connect',\n",
       " 'extra',\n",
       " 'better',\n",
       " u'location',\n",
       " 'combat',\n",
       " 'hit',\n",
       " 'know',\n",
       " 'stunning',\n",
       " 'tournament',\n",
       " 'next',\n",
       " 'latest',\n",
       " 'product',\n",
       " 'select',\n",
       " 'storm8',\n",
       " 'train',\n",
       " 'addictive',\n",
       " 'without',\n",
       " 'people',\n",
       " u'physic',\n",
       " 'ea',\n",
       " 'tower',\n",
       " 'good',\n",
       " 'contains',\n",
       " 'co',\n",
       " 'family',\n",
       " 'test',\n",
       " u'language',\n",
       " 'single',\n",
       " u'song',\n",
       " u'year',\n",
       " 'improve',\n",
       " 'used',\n",
       " 'account',\n",
       " u'hour',\n",
       " u'suggestion',\n",
       " 'search',\n",
       " 'quality',\n",
       " 'buy',\n",
       " 'room',\n",
       " 'together',\n",
       " 'dont',\n",
       " 'order',\n",
       " u'letter',\n",
       " 'live',\n",
       " 'agreement',\n",
       " 'website',\n",
       " 'news',\n",
       " 'army',\n",
       " 'beat',\n",
       " u'hundred',\n",
       " 'sure',\n",
       " 'change',\n",
       " u'truck',\n",
       " 'million',\n",
       " u'difficulty',\n",
       " u'machine',\n",
       " 'island',\n",
       " 'third',\n",
       " 'brain',\n",
       " 'place',\n",
       " 'within',\n",
       " 'today',\n",
       " 'choice',\n",
       " 'kingdom',\n",
       " 'feedback',\n",
       " 'designed',\n",
       " 'gaming',\n",
       " 'memory',\n",
       " 'guess',\n",
       " 'allows',\n",
       " u'bubble',\n",
       " 'completely',\n",
       " 'art',\n",
       " 'award',\n",
       " 'important',\n",
       " 'add',\n",
       " 'secret',\n",
       " 'head',\n",
       " 'virtual',\n",
       " 'advertising',\n",
       " 'king',\n",
       " 'mini',\n",
       " 'license',\n",
       " 'solve',\n",
       " 'pick',\n",
       " 'line',\n",
       " 'bring',\n",
       " 'variety',\n",
       " 'community',\n",
       " 'everything',\n",
       " 'email',\n",
       " 'hard',\n",
       " 'arcade',\n",
       " 'added',\n",
       " u'prize',\n",
       " 'review',\n",
       " 'endless',\n",
       " 'driving',\n",
       " 'rpg',\n",
       " 'gold',\n",
       " 'intuitive',\n",
       " 'land',\n",
       " u'engine',\n",
       " 'direct',\n",
       " 'future',\n",
       " 'inc',\n",
       " 'purchased',\n",
       " 'part',\n",
       " 'space',\n",
       " 'practice',\n",
       " 'personal',\n",
       " 'long',\n",
       " 'open',\n",
       " 'reach',\n",
       " 'played',\n",
       " 'hd',\n",
       " 'huge',\n",
       " 'table',\n",
       " 'magic',\n",
       " 'little',\n",
       " u'stage',\n",
       " 'cool',\n",
       " 'gun',\n",
       " 'put',\n",
       " 'made',\n",
       " 'send',\n",
       " u'rule',\n",
       " 'notice',\n",
       " u'medium',\n",
       " u'ton',\n",
       " u'issue',\n",
       " 'food',\n",
       " 'league',\n",
       " 'increase',\n",
       " 'youll',\n",
       " u'bos',\n",
       " 'en',\n",
       " 'journey',\n",
       " 'shoot',\n",
       " u'boost',\n",
       " 'would',\n",
       " 'info',\n",
       " 'instagram',\n",
       " 'logo',\n",
       " 'drive',\n",
       " 'hear',\n",
       " 'quiz',\n",
       " 'chat',\n",
       " 'supported',\n",
       " 'road',\n",
       " u'pack',\n",
       " 'defeat',\n",
       " u'girl',\n",
       " 'possible',\n",
       " u'tile',\n",
       " 'french',\n",
       " 'disable',\n",
       " 'survival',\n",
       " 'intended',\n",
       " 'includes',\n",
       " u'view',\n",
       " 'brand',\n",
       " u'web',\n",
       " u'picture',\n",
       " 'success',\n",
       " 'waiting',\n",
       " u'condition',\n",
       " 'massive',\n",
       " 'read',\n",
       " 'winning',\n",
       " 'fighting',\n",
       " 'finger',\n",
       " 'left',\n",
       " u'dice',\n",
       " u'guild',\n",
       " u'baby',\n",
       " 'able',\n",
       " 'legendary',\n",
       " 'inside',\n",
       " 'damage',\n",
       " u'animation',\n",
       " 'escape',\n",
       " 'via',\n",
       " 'meet',\n",
       " 'spanish',\n",
       " 'fantasy',\n",
       " 'ups',\n",
       " 'hint',\n",
       " 'dream',\n",
       " 'plus',\n",
       " 'global',\n",
       " 'grow',\n",
       " 'name',\n",
       " 'face',\n",
       " u'country',\n",
       " 'menu',\n",
       " 'gear',\n",
       " u'title',\n",
       " 'pvp',\n",
       " 'coming',\n",
       " 'running',\n",
       " 'galaxy',\n",
       " 'offline',\n",
       " 'series',\n",
       " 'soon',\n",
       " u'tip',\n",
       " 'performance',\n",
       " u'boss',\n",
       " 'think',\n",
       " u'platform',\n",
       " 'everyone',\n",
       " u'candy',\n",
       " 'campaign',\n",
       " 'soccer',\n",
       " u'vehicle',\n",
       " 'list',\n",
       " 'street',\n",
       " 'chance',\n",
       " 'stop',\n",
       " u'bird',\n",
       " 'force',\n",
       " u'stay',\n",
       " 'cartoon',\n",
       " 'night',\n",
       " 'block',\n",
       " 'ninja',\n",
       " 'key',\n",
       " 'away',\n",
       " 'four',\n",
       " 'restaurant',\n",
       " 'range',\n",
       " 'spin',\n",
       " 'include']"
      ]
     },
     "execution_count": 37,
     "metadata": {},
     "output_type": "execute_result"
    }
   ],
   "source": [
    "#remove top 500 frequency words as stop words\n",
    "\n",
    "freqall_w = list(freqall_df[:500].index)\n",
    "freqall_w"
   ]
  },
  {
   "cell_type": "code",
   "execution_count": 38,
   "metadata": {
    "collapsed": true
   },
   "outputs": [],
   "source": [
    "def process(inputdf):\n",
    "    des = inputdf['description']\n",
    "    des = des.str.lower()\n",
    "    des = des.reset_index()\n",
    "    des = des['description']\n",
    "    \n",
    "    ##tokenize\n",
    "    tokens= []\n",
    "    for i in range(len(des)):\n",
    "        tokens = tokens + tokenizer.tokenize(str(des[i])) \n",
    "         # + to make all of them into a list, not a list group \n",
    "        tokens_new=[]\n",
    "    #remove digit and only one letter word\n",
    "    for word in tokens: \n",
    "        if not (word.isdigit() or re.match(r'^[a-z]$',word)):\n",
    "            tokens_new.append(word)\n",
    "            \n",
    "    #remove stop word\n",
    "    stop_words = set(stopwords.words(\"english\"))\n",
    "    tokens2 = [w for w in tokens_new if not w in stop_words]\n",
    "    \n",
    "    #stemming\n",
    "    wnl = WordNetLemmatizer()\n",
    "    token3=[wnl.lemmatize(w) for w in tokens2]\n",
    "    \n",
    "    #remove high frequency words\n",
    "    token4 = [w for w in token3 if not w in freqall_w]\n",
    "\n",
    "    wordfreq = FreqDist(token4)\n",
    "    \n",
    "    return wordfreq"
   ]
  },
  {
   "cell_type": "code",
   "execution_count": 39,
   "metadata": {
    "collapsed": true
   },
   "outputs": [],
   "source": [
    "freq1 = process(df1)\n",
    "freq2 = process(df2)\n",
    "freq3 = process(df3)\n",
    "freq4 = process(df4)"
   ]
  },
  {
   "cell_type": "code",
   "execution_count": 41,
   "metadata": {
    "collapsed": false
   },
   "outputs": [
    {
     "data": {
      "image/png": "[encoded data removed]",
      "text/plain": [
       "<matplotlib.figure.Figure at 0x122a69a90>"
      ]
     },
     "metadata": {},
     "output_type": "display_data"
    }
   ],
   "source": [
    "freq1.plot(30)"
   ]
  },
  {
   "cell_type": "code",
   "execution_count": 42,
   "metadata": {
    "collapsed": false
   },
   "outputs": [
    {
     "data": {
      "image/png": "[encoded data removed]",
      "text/plain": [
       "<matplotlib.figure.Figure at 0x122a9cf10>"
      ]
     },
     "metadata": {},
     "output_type": "display_data"
    }
   ],
   "source": [
    "freq2.plot(30)"
   ]
  },
  {
   "cell_type": "code",
   "execution_count": 43,
   "metadata": {
    "collapsed": false
   },
   "outputs": [
    {
     "data": {
      "image/png": "[encoded data removed]",
      "text/plain": [
       "<matplotlib.figure.Figure at 0x1233b0e50>"
      ]
     },
     "metadata": {},
     "output_type": "display_data"
    }
   ],
   "source": [
    "freq3.plot(30)"
   ]
  },
  {
   "cell_type": "code",
   "execution_count": 44,
   "metadata": {
    "collapsed": false
   },
   "outputs": [
    {
     "data": {
      "image/png": "[encoded data removed]",
      "text/plain": [
       "<matplotlib.figure.Figure at 0x12794dcd0>"
      ]
     },
     "metadata": {},
     "output_type": "display_data"
    }
   ],
   "source": [
    "freq4.plot(30)"
   ]
  },
  {
   "cell_type": "code",
   "execution_count": 40,
   "metadata": {
    "collapsed": true
   },
   "outputs": [],
   "source": [
    "freqlist = [freq1,freq2,freq3,freq4]"
   ]
  },
  {
   "cell_type": "code",
   "execution_count": null,
   "metadata": {
    "collapsed": true
   },
   "outputs": [],
   "source": []
  }
 ],
 "metadata": {
  "anaconda-cloud": {},
  "kernelspec": {
   "display_name": "Python [default]",
   "language": "python",
   "name": "python2"
  },
  "language_info": {
   "codemirror_mode": {
    "name": "ipython",
    "version": 2
   },
   "file_extension": ".py",
   "mimetype": "text/x-python",
   "name": "python",
   "nbconvert_exporter": "python",
   "pygments_lexer": "ipython2",
   "version": "2.7.12"
  }
 },
 "nbformat": 4,
 "nbformat_minor": 1
}
