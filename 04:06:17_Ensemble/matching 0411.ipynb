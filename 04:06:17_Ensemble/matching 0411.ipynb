{
 "cells": [
  {
   "cell_type": "code",
   "execution_count": 1,
   "metadata": {
    "collapsed": true
   },
   "outputs": [],
   "source": [
    "import pandas as pd\n",
    "import numpy as np\n",
    "from fuzzywuzzy import fuzz\n",
    "from fuzzywuzzy import process"
   ]
  },
  {
   "cell_type": "code",
   "execution_count": 2,
   "metadata": {
    "collapsed": false
   },
   "outputs": [
    {
     "name": "stdout",
     "output_type": "stream",
     "text": [
      "(44840, 5)\n"
     ]
    },
    {
     "data": {
      "text/html": [
       "<div>\n",
       "<table border=\"1\" class=\"dataframe\">\n",
       "  <thead>\n",
       "    <tr style=\"text-align: right;\">\n",
       "      <th></th>\n",
       "      <th>No.</th>\n",
       "      <th>app_name</th>\n",
       "      <th>rating</th>\n",
       "      <th>developer</th>\n",
       "      <th>description</th>\n",
       "    </tr>\n",
       "  </thead>\n",
       "  <tbody>\n",
       "    <tr>\n",
       "      <th>0</th>\n",
       "      <td>1</td>\n",
       "      <td>'A A 777 My Slots Machines Rich FREE'</td>\n",
       "      <td>3</td>\n",
       "      <td>More by Samuel Moreira\\n    \\n\\n\\n\\n\\n\\n\\n\\n*...</td>\n",
       "      <td>Download the best Slot experience for free to...</td>\n",
       "    </tr>\n",
       "    <tr>\n",
       "      <th>1</th>\n",
       "      <td>2</td>\n",
       "      <td>'A A 777 My Slots Machines Vegas Casino'</td>\n",
       "      <td>3</td>\n",
       "      <td>More by Samuel Moreira\\n    \\n\\n\\n\\n\\n\\n\\n\\n*...</td>\n",
       "      <td>Download the best Slot experience for free to...</td>\n",
       "    </tr>\n",
       "    <tr>\n",
       "      <th>2</th>\n",
       "      <td>3</td>\n",
       "      <td>'A A 777 My Slots Rich Casino Amazing'</td>\n",
       "      <td>3</td>\n",
       "      <td>More by Samuel Moreira\\n    \\n\\n\\n\\n\\n\\n\\n\\n*...</td>\n",
       "      <td>Download the best Slot experience for free to...</td>\n",
       "    </tr>\n",
       "    <tr>\n",
       "      <th>3</th>\n",
       "      <td>4</td>\n",
       "      <td>'A A 777 My Slots Rich Casino Vegas'</td>\n",
       "      <td>3</td>\n",
       "      <td>More by Samuel Moreira\\n    \\n\\n\\n\\n\\n\\n\\n\\n*...</td>\n",
       "      <td>Download the best Slot experience for free to...</td>\n",
       "    </tr>\n",
       "    <tr>\n",
       "      <th>4</th>\n",
       "      <td>5</td>\n",
       "      <td>'A A 777 My Vegas Casino Slots FREE'</td>\n",
       "      <td>3</td>\n",
       "      <td>More by Samuel Moreira\\n    \\n\\n\\n\\n\\n\\n\\n\\n*...</td>\n",
       "      <td>Download the best Slot experience for free to...</td>\n",
       "    </tr>\n",
       "  </tbody>\n",
       "</table>\n",
       "</div>"
      ],
      "text/plain": [
       "   No.                                  app_name  rating  \\\n",
       "0    1     'A A 777 My Slots Machines Rich FREE'       3   \n",
       "1    2  'A A 777 My Slots Machines Vegas Casino'       3   \n",
       "2    3    'A A 777 My Slots Rich Casino Amazing'       3   \n",
       "3    4      'A A 777 My Slots Rich Casino Vegas'       3   \n",
       "4    5      'A A 777 My Vegas Casino Slots FREE'       3   \n",
       "\n",
       "                                           developer  \\\n",
       "0   More by Samuel Moreira\\n    \\n\\n\\n\\n\\n\\n\\n\\n*...   \n",
       "1   More by Samuel Moreira\\n    \\n\\n\\n\\n\\n\\n\\n\\n*...   \n",
       "2   More by Samuel Moreira\\n    \\n\\n\\n\\n\\n\\n\\n\\n*...   \n",
       "3   More by Samuel Moreira\\n    \\n\\n\\n\\n\\n\\n\\n\\n*...   \n",
       "4   More by Samuel Moreira\\n    \\n\\n\\n\\n\\n\\n\\n\\n*...   \n",
       "\n",
       "                                        description   \n",
       "0   Download the best Slot experience for free to...  \n",
       "1   Download the best Slot experience for free to...  \n",
       "2   Download the best Slot experience for free to...  \n",
       "3   Download the best Slot experience for free to...  \n",
       "4   Download the best Slot experience for free to...  "
      ]
     },
     "execution_count": 2,
     "metadata": {},
     "output_type": "execute_result"
    }
   ],
   "source": [
    "idf = pd.read_excel('ios_matching_input.xlsx')\n",
    "print idf.shape\n",
    "idf.head()"
   ]
  },
  {
   "cell_type": "code",
   "execution_count": 3,
   "metadata": {
    "collapsed": false
   },
   "outputs": [
    {
     "name": "stdout",
     "output_type": "stream",
     "text": [
      "(36927, 6)\n"
     ]
    },
    {
     "data": {
      "text/html": [
       "<div>\n",
       "<table border=\"1\" class=\"dataframe\">\n",
       "  <thead>\n",
       "    <tr style=\"text-align: right;\">\n",
       "      <th></th>\n",
       "      <th>num</th>\n",
       "      <th>name</th>\n",
       "      <th>app_url</th>\n",
       "      <th>sub_category</th>\n",
       "      <th>description</th>\n",
       "      <th>level</th>\n",
       "    </tr>\n",
       "  </thead>\n",
       "  <tbody>\n",
       "    <tr>\n",
       "      <th>0</th>\n",
       "      <td>0</td>\n",
       "      <td>10.5</td>\n",
       "      <td>https://play.google.com/store/apps/details?id=...</td>\n",
       "      <td>Card</td>\n",
       "      <td>(Introduction) Ten Point Half(10.5) is a very ...</td>\n",
       "      <td>3</td>\n",
       "    </tr>\n",
       "    <tr>\n",
       "      <th>1</th>\n",
       "      <td>1</td>\n",
       "      <td>101</td>\n",
       "      <td>https://play.google.com/store/apps/details?id=...</td>\n",
       "      <td>Card</td>\n",
       "      <td>There are many variations of the basic game, a...</td>\n",
       "      <td>1</td>\n",
       "    </tr>\n",
       "    <tr>\n",
       "      <th>2</th>\n",
       "      <td>2</td>\n",
       "      <td>2017</td>\n",
       "      <td>https://play.google.com/store/apps/details?id=...</td>\n",
       "      <td>Adventure</td>\n",
       "      <td>Hello you in your game Bunny helped Collect co...</td>\n",
       "      <td>1</td>\n",
       "    </tr>\n",
       "    <tr>\n",
       "      <th>3</th>\n",
       "      <td>3</td>\n",
       "      <td>2017</td>\n",
       "      <td>https://play.google.com/store/apps/details?id=...</td>\n",
       "      <td>Sports</td>\n",
       "      <td>The 2017 mobile app is the most complete app f...</td>\n",
       "      <td>1</td>\n",
       "    </tr>\n",
       "    <tr>\n",
       "      <th>4</th>\n",
       "      <td>4</td>\n",
       "      <td>2048</td>\n",
       "      <td>https://play.google.com/store/apps/details?id=...</td>\n",
       "      <td>Puzzle</td>\n",
       "      <td>2048 game is a funnysimple and addictive numbe...</td>\n",
       "      <td>1</td>\n",
       "    </tr>\n",
       "  </tbody>\n",
       "</table>\n",
       "</div>"
      ],
      "text/plain": [
       "   num  name                                            app_url sub_category  \\\n",
       "0    0  10.5  https://play.google.com/store/apps/details?id=...         Card   \n",
       "1    1   101  https://play.google.com/store/apps/details?id=...         Card   \n",
       "2    2  2017  https://play.google.com/store/apps/details?id=...    Adventure   \n",
       "3    3  2017  https://play.google.com/store/apps/details?id=...       Sports   \n",
       "4    4  2048  https://play.google.com/store/apps/details?id=...       Puzzle   \n",
       "\n",
       "                                         description  level  \n",
       "0  (Introduction) Ten Point Half(10.5) is a very ...      3  \n",
       "1  There are many variations of the basic game, a...      1  \n",
       "2  Hello you in your game Bunny helped Collect co...      1  \n",
       "3  The 2017 mobile app is the most complete app f...      1  \n",
       "4  2048 game is a funnysimple and addictive numbe...      1  "
      ]
     },
     "execution_count": 3,
     "metadata": {},
     "output_type": "execute_result"
    }
   ],
   "source": [
    "adf = pd.read_excel('Andriod_matching_input.xlsx')\n",
    "print adf.shape\n",
    "adf.head()"
   ]
  },
  {
   "cell_type": "code",
   "execution_count": 4,
   "metadata": {
    "collapsed": false
   },
   "outputs": [],
   "source": [
    "idf.columns = ['i_id','i_name','i_level','i_developer','i_description']\n",
    "adf.columns=['a_id','a_name','a_url','a_category','a_description','a_level']"
   ]
  },
  {
   "cell_type": "code",
   "execution_count": 10,
   "metadata": {
    "collapsed": false
   },
   "outputs": [
    {
     "data": {
      "text/html": [
       "<div>\n",
       "<table border=\"1\" class=\"dataframe\">\n",
       "  <thead>\n",
       "    <tr style=\"text-align: right;\">\n",
       "      <th></th>\n",
       "      <th>i_id</th>\n",
       "      <th>i_name</th>\n",
       "      <th>i_level</th>\n",
       "      <th>i_developer</th>\n",
       "      <th>i_description</th>\n",
       "    </tr>\n",
       "  </thead>\n",
       "  <tbody>\n",
       "    <tr>\n",
       "      <th>0</th>\n",
       "      <td>1</td>\n",
       "      <td>'A A 777 My Slots Machines Rich FREE'</td>\n",
       "      <td>3</td>\n",
       "      <td>More by Samuel Moreira\\n    \\n\\n\\n\\n\\n\\n\\n\\n*...</td>\n",
       "      <td>Download the best Slot experience for free to...</td>\n",
       "    </tr>\n",
       "    <tr>\n",
       "      <th>1</th>\n",
       "      <td>2</td>\n",
       "      <td>'A A 777 My Slots Machines Vegas Casino'</td>\n",
       "      <td>3</td>\n",
       "      <td>More by Samuel Moreira\\n    \\n\\n\\n\\n\\n\\n\\n\\n*...</td>\n",
       "      <td>Download the best Slot experience for free to...</td>\n",
       "    </tr>\n",
       "    <tr>\n",
       "      <th>2</th>\n",
       "      <td>3</td>\n",
       "      <td>'A A 777 My Slots Rich Casino Amazing'</td>\n",
       "      <td>3</td>\n",
       "      <td>More by Samuel Moreira\\n    \\n\\n\\n\\n\\n\\n\\n\\n*...</td>\n",
       "      <td>Download the best Slot experience for free to...</td>\n",
       "    </tr>\n",
       "    <tr>\n",
       "      <th>3</th>\n",
       "      <td>4</td>\n",
       "      <td>'A A 777 My Slots Rich Casino Vegas'</td>\n",
       "      <td>3</td>\n",
       "      <td>More by Samuel Moreira\\n    \\n\\n\\n\\n\\n\\n\\n\\n*...</td>\n",
       "      <td>Download the best Slot experience for free to...</td>\n",
       "    </tr>\n",
       "    <tr>\n",
       "      <th>4</th>\n",
       "      <td>5</td>\n",
       "      <td>'A A 777 My Vegas Casino Slots FREE'</td>\n",
       "      <td>3</td>\n",
       "      <td>More by Samuel Moreira\\n    \\n\\n\\n\\n\\n\\n\\n\\n*...</td>\n",
       "      <td>Download the best Slot experience for free to...</td>\n",
       "    </tr>\n",
       "  </tbody>\n",
       "</table>\n",
       "</div>"
      ],
      "text/plain": [
       "   i_id                                    i_name  i_level  \\\n",
       "0     1     'A A 777 My Slots Machines Rich FREE'        3   \n",
       "1     2  'A A 777 My Slots Machines Vegas Casino'        3   \n",
       "2     3    'A A 777 My Slots Rich Casino Amazing'        3   \n",
       "3     4      'A A 777 My Slots Rich Casino Vegas'        3   \n",
       "4     5      'A A 777 My Vegas Casino Slots FREE'        3   \n",
       "\n",
       "                                         i_developer  \\\n",
       "0   More by Samuel Moreira\\n    \\n\\n\\n\\n\\n\\n\\n\\n*...   \n",
       "1   More by Samuel Moreira\\n    \\n\\n\\n\\n\\n\\n\\n\\n*...   \n",
       "2   More by Samuel Moreira\\n    \\n\\n\\n\\n\\n\\n\\n\\n*...   \n",
       "3   More by Samuel Moreira\\n    \\n\\n\\n\\n\\n\\n\\n\\n*...   \n",
       "4   More by Samuel Moreira\\n    \\n\\n\\n\\n\\n\\n\\n\\n*...   \n",
       "\n",
       "                                       i_description  \n",
       "0   Download the best Slot experience for free to...  \n",
       "1   Download the best Slot experience for free to...  \n",
       "2   Download the best Slot experience for free to...  \n",
       "3   Download the best Slot experience for free to...  \n",
       "4   Download the best Slot experience for free to...  "
      ]
     },
     "execution_count": 10,
     "metadata": {},
     "output_type": "execute_result"
    }
   ],
   "source": [
    "idf.head()"
   ]
  },
  {
   "cell_type": "code",
   "execution_count": 11,
   "metadata": {
    "collapsed": true
   },
   "outputs": [],
   "source": [
    "choices = idf['i_name'].tolist()"
   ]
  },
  {
   "cell_type": "code",
   "execution_count": 5,
   "metadata": {
    "collapsed": true
   },
   "outputs": [],
   "source": [
    "adf = adf[adf['a_level']==1] # only keep \"Everyone\""
   ]
  },
  {
   "cell_type": "code",
   "execution_count": null,
   "metadata": {
    "collapsed": false
   },
   "outputs": [],
   "source": [
    "#adf = adf.apply(fuzzymatch, axis = 1) takes forever"
   ]
  },
  {
   "cell_type": "code",
   "execution_count": 17,
   "metadata": {
    "collapsed": true
   },
   "outputs": [],
   "source": [
    "def fuzzymatch(row):\n",
    "    i_name,score = process.extractOne(str(row['a_name']),choices)\n",
    "    row['i_name'] = i_name\n",
    "    row['score'] = score\n",
    "    \n",
    "    return row"
   ]
  },
  {
   "cell_type": "code",
   "execution_count": 30,
   "metadata": {
    "collapsed": false
   },
   "outputs": [
    {
     "name": "stdout",
     "output_type": "stream",
     "text": [
      "CPU times: user 23.3 s, sys: 246 ms, total: 23.5 s\n",
      "Wall time: 23.5 s\n"
     ]
    },
    {
     "data": {
      "text/html": [
       "<div>\n",
       "<table border=\"1\" class=\"dataframe\">\n",
       "  <thead>\n",
       "    <tr style=\"text-align: right;\">\n",
       "      <th></th>\n",
       "      <th>a_id</th>\n",
       "      <th>a_name</th>\n",
       "      <th>a_url</th>\n",
       "      <th>a_description</th>\n",
       "      <th>a_level</th>\n",
       "      <th>i_name</th>\n",
       "      <th>score</th>\n",
       "    </tr>\n",
       "  </thead>\n",
       "  <tbody>\n",
       "    <tr>\n",
       "      <th>1</th>\n",
       "      <td>1</td>\n",
       "      <td>101</td>\n",
       "      <td>https://play.google.com/store/apps/details?id=...</td>\n",
       "      <td>There are many variations of the basic game, a...</td>\n",
       "      <td>1</td>\n",
       "      <td>E Books  101 Flashcards</td>\n",
       "      <td>90</td>\n",
       "    </tr>\n",
       "    <tr>\n",
       "      <th>2</th>\n",
       "      <td>2</td>\n",
       "      <td>2017</td>\n",
       "      <td>https://play.google.com/store/apps/details?id=...</td>\n",
       "      <td>Hello you in your game Bunny helped Collect co...</td>\n",
       "      <td>1</td>\n",
       "      <td>2017</td>\n",
       "      <td>100</td>\n",
       "    </tr>\n",
       "    <tr>\n",
       "      <th>3</th>\n",
       "      <td>3</td>\n",
       "      <td>2017</td>\n",
       "      <td>https://play.google.com/store/apps/details?id=...</td>\n",
       "      <td>The 2017 mobile app is the most complete app f...</td>\n",
       "      <td>1</td>\n",
       "      <td>2017</td>\n",
       "      <td>100</td>\n",
       "    </tr>\n",
       "    <tr>\n",
       "      <th>4</th>\n",
       "      <td>4</td>\n",
       "      <td>2048</td>\n",
       "      <td>https://play.google.com/store/apps/details?id=...</td>\n",
       "      <td>2048 game is a funnysimple and addictive numbe...</td>\n",
       "      <td>1</td>\n",
       "      <td>Cam2048</td>\n",
       "      <td>90</td>\n",
       "    </tr>\n",
       "    <tr>\n",
       "      <th>5</th>\n",
       "      <td>5</td>\n",
       "      <td>2048</td>\n",
       "      <td>https://play.google.com/store/apps/details?id=...</td>\n",
       "      <td>2048 Game Tips &amp; Tricks 1. Take It Slow 2048 i...</td>\n",
       "      <td>1</td>\n",
       "      <td>Cam2048</td>\n",
       "      <td>90</td>\n",
       "    </tr>\n",
       "  </tbody>\n",
       "</table>\n",
       "</div>"
      ],
      "text/plain": [
       "   a_id  a_name                                              a_url  \\\n",
       "1     1     101  https://play.google.com/store/apps/details?id=...   \n",
       "2     2    2017  https://play.google.com/store/apps/details?id=...   \n",
       "3     3    2017  https://play.google.com/store/apps/details?id=...   \n",
       "4     4    2048  https://play.google.com/store/apps/details?id=...   \n",
       "5     5    2048  https://play.google.com/store/apps/details?id=...   \n",
       "\n",
       "                                       a_description  a_level  \\\n",
       "1  There are many variations of the basic game, a...        1   \n",
       "2  Hello you in your game Bunny helped Collect co...        1   \n",
       "3  The 2017 mobile app is the most complete app f...        1   \n",
       "4  2048 game is a funnysimple and addictive numbe...        1   \n",
       "5  2048 Game Tips & Tricks 1. Take It Slow 2048 i...        1   \n",
       "\n",
       "                    i_name  score  \n",
       "1  E Books  101 Flashcards     90  \n",
       "2                     2017    100  \n",
       "3                     2017    100  \n",
       "4                  Cam2048     90  \n",
       "5                  Cam2048     90  "
      ]
     },
     "execution_count": 30,
     "metadata": {},
     "output_type": "execute_result"
    }
   ],
   "source": [
    "%time adf.iloc[0:5].apply(fuzzymatch, axis=1) #5s/app\n",
    "#it will take 40hrs to finish 30000 apps!!!!"
   ]
  },
  {
   "cell_type": "code",
   "execution_count": 49,
   "metadata": {
    "collapsed": true
   },
   "outputs": [],
   "source": [
    "# preprocess the i_name \n",
    "import string\n",
    "def pre(row):\n",
    "    s = row['i_name']\n",
    "    \n",
    "    new_s = ''.join([ch for ch in s if ch not in string.punctuation])\n",
    "    \n",
    "    new_s = new_s.replace('FREE','').replace('Free','').replace('3D','').replace('HD','')\n",
    "    new_s = new_s.replace('AAA','').replace('AA','').replace('Aaa','').replace('Aa','').replace('A1','').replace('A ','')\n",
    "    row[\"i_name\"] = new_s.strip()\n",
    "    return row"
   ]
  },
  {
   "cell_type": "code",
   "execution_count": 50,
   "metadata": {
    "collapsed": false
   },
   "outputs": [],
   "source": [
    "idf = idf.apply(pre,axis=1)"
   ]
  },
  {
   "cell_type": "code",
   "execution_count": 51,
   "metadata": {
    "collapsed": false
   },
   "outputs": [
    {
     "data": {
      "text/html": [
       "<div>\n",
       "<table border=\"1\" class=\"dataframe\">\n",
       "  <thead>\n",
       "    <tr style=\"text-align: right;\">\n",
       "      <th></th>\n",
       "      <th>i_id</th>\n",
       "      <th>i_name</th>\n",
       "      <th>i_level</th>\n",
       "      <th>i_developer</th>\n",
       "      <th>i_description</th>\n",
       "    </tr>\n",
       "  </thead>\n",
       "  <tbody>\n",
       "    <tr>\n",
       "      <th>0</th>\n",
       "      <td>1</td>\n",
       "      <td>777 My Slots Machines Rich</td>\n",
       "      <td>3</td>\n",
       "      <td>More by Samuel Moreira\\n    \\n\\n\\n\\n\\n\\n\\n\\n*...</td>\n",
       "      <td>Download the best Slot experience for free to...</td>\n",
       "    </tr>\n",
       "    <tr>\n",
       "      <th>1</th>\n",
       "      <td>2</td>\n",
       "      <td>777 My Slots Machines Vegas Casino</td>\n",
       "      <td>3</td>\n",
       "      <td>More by Samuel Moreira\\n    \\n\\n\\n\\n\\n\\n\\n\\n*...</td>\n",
       "      <td>Download the best Slot experience for free to...</td>\n",
       "    </tr>\n",
       "    <tr>\n",
       "      <th>2</th>\n",
       "      <td>3</td>\n",
       "      <td>777 My Slots Rich Casino Amazing</td>\n",
       "      <td>3</td>\n",
       "      <td>More by Samuel Moreira\\n    \\n\\n\\n\\n\\n\\n\\n\\n*...</td>\n",
       "      <td>Download the best Slot experience for free to...</td>\n",
       "    </tr>\n",
       "    <tr>\n",
       "      <th>3</th>\n",
       "      <td>4</td>\n",
       "      <td>777 My Slots Rich Casino Vegas</td>\n",
       "      <td>3</td>\n",
       "      <td>More by Samuel Moreira\\n    \\n\\n\\n\\n\\n\\n\\n\\n*...</td>\n",
       "      <td>Download the best Slot experience for free to...</td>\n",
       "    </tr>\n",
       "    <tr>\n",
       "      <th>4</th>\n",
       "      <td>5</td>\n",
       "      <td>777 My Vegas Casino Slots</td>\n",
       "      <td>3</td>\n",
       "      <td>More by Samuel Moreira\\n    \\n\\n\\n\\n\\n\\n\\n\\n*...</td>\n",
       "      <td>Download the best Slot experience for free to...</td>\n",
       "    </tr>\n",
       "    <tr>\n",
       "      <th>5</th>\n",
       "      <td>6</td>\n",
       "      <td>777 My Vegas Classic Slots Machines</td>\n",
       "      <td>3</td>\n",
       "      <td>More by Samuel Moreira\\n    \\n\\n\\n\\n\\n\\n\\n\\n*...</td>\n",
       "      <td>Download the best Slot experience for free to...</td>\n",
       "    </tr>\n",
       "    <tr>\n",
       "      <th>6</th>\n",
       "      <td>7</td>\n",
       "      <td>777 Abing</td>\n",
       "      <td>3</td>\n",
       "      <td>More by Andre Moreira\\n    \\n\\n\\n\\n\\n\\n\\n\\nA ...</td>\n",
       "      <td>Download the best Slot experience for free to...</td>\n",
       "    </tr>\n",
       "    <tr>\n",
       "      <th>7</th>\n",
       "      <td>8</td>\n",
       "      <td>a 777 abingo Casino</td>\n",
       "      <td>3</td>\n",
       "      <td>More by Andre Moreira\\n    \\n\\n\\n\\n\\n\\n\\n\\nA ...</td>\n",
       "      <td>Download the best Slot experience for free to...</td>\n",
       "    </tr>\n",
       "    <tr>\n",
       "      <th>8</th>\n",
       "      <td>9</td>\n",
       "      <td>a 777 ABluto Coins</td>\n",
       "      <td>3</td>\n",
       "      <td>More by Andre Moreira\\n    \\n\\n\\n\\n\\n\\n\\n\\nA ...</td>\n",
       "      <td>Download the best Slot experience for free to...</td>\n",
       "    </tr>\n",
       "    <tr>\n",
       "      <th>9</th>\n",
       "      <td>10</td>\n",
       "      <td>777 Abuse Casino Vegas</td>\n",
       "      <td>3</td>\n",
       "      <td>More by Andre Moreira\\n    \\n\\n\\n\\n\\n\\n\\n\\nA ...</td>\n",
       "      <td>Download the best Slot experience for free to...</td>\n",
       "    </tr>\n",
       "    <tr>\n",
       "      <th>10</th>\n",
       "      <td>11</td>\n",
       "      <td>aaadzebyss Casino</td>\n",
       "      <td>3</td>\n",
       "      <td>More by Andre Moreira\\n    \\n\\n\\n\\n\\n\\n\\n\\nA ...</td>\n",
       "      <td>Download the best Slot experience for free to...</td>\n",
       "    </tr>\n",
       "    <tr>\n",
       "      <th>11</th>\n",
       "      <td>12</td>\n",
       "      <td>a ABlack Tie Slots</td>\n",
       "      <td>3</td>\n",
       "      <td>More by Andre Moreira\\n    \\n\\n\\n\\n\\n\\n\\n\\nA ...</td>\n",
       "      <td>Download the best Slot experience for free to...</td>\n",
       "    </tr>\n",
       "    <tr>\n",
       "      <th>12</th>\n",
       "      <td>13</td>\n",
       "      <td>Absolut Amazing Magic Slots</td>\n",
       "      <td>3</td>\n",
       "      <td>More by Andre Moreira\\n    \\n\\n\\n\\n\\n\\n\\n\\nA ...</td>\n",
       "      <td>Download the best Slot experience for free to...</td>\n",
       "    </tr>\n",
       "    <tr>\n",
       "      <th>13</th>\n",
       "      <td>14</td>\n",
       "      <td>Adventure Robots Slots</td>\n",
       "      <td>3</td>\n",
       "      <td>More by Andre Moreira\\n    \\n\\n\\n\\n\\n\\n\\n\\nA ...</td>\n",
       "      <td>Download the best Slot experience for free to...</td>\n",
       "    </tr>\n",
       "    <tr>\n",
       "      <th>14</th>\n",
       "      <td>15</td>\n",
       "      <td>Ah Ibiza Casino</td>\n",
       "      <td>3</td>\n",
       "      <td>More by Andre Moreira\\n    \\n\\n\\n\\n\\n\\n\\n\\nA ...</td>\n",
       "      <td>Download the best Slot experience for free to...</td>\n",
       "    </tr>\n",
       "    <tr>\n",
       "      <th>15</th>\n",
       "      <td>16</td>\n",
       "      <td>Hard Loaded Macau  Gambling Winner</td>\n",
       "      <td>3</td>\n",
       "      <td>More by thais morelli\\n    \\n\\n\\n\\n\\n\\n\\n\\nTr...</td>\n",
       "      <td>BIG WIN JACKPOTS ON MOBILE! PLAY A A Hard Load...</td>\n",
       "    </tr>\n",
       "    <tr>\n",
       "      <th>16</th>\n",
       "      <td>17</td>\n",
       "      <td>rm  The alarm clock you can stop with your voice</td>\n",
       "      <td>1</td>\n",
       "      <td>More iPhone Apps by SYSMIGO\\n    \\n\\n\\n\\n\\n\\n...</td>\n",
       "      <td>A!arm is probably the best thing after sleepin...</td>\n",
       "    </tr>\n",
       "    <tr>\n",
       "      <th>17</th>\n",
       "      <td>18</td>\n",
       "      <td>AB Maths</td>\n",
       "      <td>1</td>\n",
       "      <td>More by Kevin Christy\\n    \\n\\n\\n\\n\\n\\n\\n\\naar...</td>\n",
       "      <td>This is the best application by age for learn...</td>\n",
       "    </tr>\n",
       "    <tr>\n",
       "      <th>18</th>\n",
       "      <td>19</td>\n",
       "      <td>AKs Wedding Game</td>\n",
       "      <td>1</td>\n",
       "      <td>NaN</td>\n",
       "      <td>A&amp;K's wedding game is an amazing adventure unt...</td>\n",
       "    </tr>\n",
       "    <tr>\n",
       "      <th>19</th>\n",
       "      <td>20</td>\n",
       "      <td>Amollang  Motley Birds</td>\n",
       "      <td>1</td>\n",
       "      <td>More by Song-haeng Lee\\n    \\n\\n\\n\\n\\n\\n\\n\\nJ...</td>\n",
       "      <td>Forget about Flappy Bird! Here is the new type...</td>\n",
       "    </tr>\n",
       "    <tr>\n",
       "      <th>20</th>\n",
       "      <td>21</td>\n",
       "      <td>Zombie Rider  Highway Racer</td>\n",
       "      <td>1</td>\n",
       "      <td>More by Aamir Elahi\\n    \\n\\n\\n\\n\\n\\n\\n\\nHall...</td>\n",
       "      <td>In Zombie Road Rider the rules are simple - e...</td>\n",
       "    </tr>\n",
       "    <tr>\n",
       "      <th>21</th>\n",
       "      <td>22</td>\n",
       "      <td>All American Slot Games  Play Vegas Style Slots</td>\n",
       "      <td>3</td>\n",
       "      <td>More by James Gurkin\\n    \\n\\n\\n\\n\\n\\n\\n\\nAAA...</td>\n",
       "      <td>Embrace the American spirit and play Las Vega...</td>\n",
       "    </tr>\n",
       "    <tr>\n",
       "      <th>22</th>\n",
       "      <td>23</td>\n",
       "      <td>AStar Shooter Battle field   Best  target army...</td>\n",
       "      <td>4</td>\n",
       "      <td>More by Delta Duck Studios\\n    \\n\\n\\n\\n\\n\\n\\...</td>\n",
       "      <td>100% FREE GAME with ALL WEAPONS UNLOCKED ACTI...</td>\n",
       "    </tr>\n",
       "    <tr>\n",
       "      <th>23</th>\n",
       "      <td>24</td>\n",
       "      <td>AStar Sniper Elite Battle field   Best  target...</td>\n",
       "      <td>4</td>\n",
       "      <td>More by Kelvin Weng\\n    \\n\\n\\n\\n\\n\\n\\n\\nDino...</td>\n",
       "      <td>100% FREE GAME with ALL WEAPONS UNLOCKED ACTI...</td>\n",
       "    </tr>\n",
       "    <tr>\n",
       "      <th>24</th>\n",
       "      <td>25</td>\n",
       "      <td>300 Sight Words Learn to Read</td>\n",
       "      <td>1</td>\n",
       "      <td>More iPhone Apps by CrazyIapps\\n    \\n\\n\\n\\n\\...</td>\n",
       "      <td>Sight Words, also know as the dolch words are...</td>\n",
       "    </tr>\n",
       "    <tr>\n",
       "      <th>25</th>\n",
       "      <td>26</td>\n",
       "      <td>bys Classic 777   American Vegas Slot Machine</td>\n",
       "      <td>3</td>\n",
       "      <td>More by FantAPPstic Apps\\n    \\n\\n\\n\\n\\n\\n\\n\\n...</td>\n",
       "      <td>The classical slots is totally fun, excitemen...</td>\n",
       "    </tr>\n",
       "    <tr>\n",
       "      <th>26</th>\n",
       "      <td>27</td>\n",
       "      <td>Ace 2 King</td>\n",
       "      <td>3</td>\n",
       "      <td>More iPhone Apps by Super Art Software\\n    \\...</td>\n",
       "      <td>This game is to flip the 13 cards in correct ...</td>\n",
       "    </tr>\n",
       "    <tr>\n",
       "      <th>27</th>\n",
       "      <td>28</td>\n",
       "      <td>Ace Amazon Forest Slots  spin animal jungle to...</td>\n",
       "      <td>3</td>\n",
       "      <td>More by Siroj Chongkolwanont\\n    \\n\\n\\n\\n\\n\\...</td>\n",
       "      <td>Play A+ Ace Amazon Forest Slots, the only Slo...</td>\n",
       "    </tr>\n",
       "    <tr>\n",
       "      <th>28</th>\n",
       "      <td>29</td>\n",
       "      <td>Ace Blackjack 21 Master Trainer  Best Top Fun ...</td>\n",
       "      <td>4</td>\n",
       "      <td>More by Tasnim Ahmed\\n    \\n\\n\\n\\n\\n\\n\\n\\nEmo...</td>\n",
       "      <td>Blackjack 21 Master Trainer Is going to bring...</td>\n",
       "    </tr>\n",
       "    <tr>\n",
       "      <th>29</th>\n",
       "      <td>30</td>\n",
       "      <td>Ace Pharaohs Slots   Big Casino Games Roulette...</td>\n",
       "      <td>3</td>\n",
       "      <td>More by Nikolay Petrov\\n    \\n\\n\\n\\n\\n\\n\\n\\nA...</td>\n",
       "      <td>Welcome to A+ Ace Pharaoh's Slots - entire cas...</td>\n",
       "    </tr>\n",
       "    <tr>\n",
       "      <th>...</th>\n",
       "      <td>...</td>\n",
       "      <td>...</td>\n",
       "      <td>...</td>\n",
       "      <td>...</td>\n",
       "      <td>...</td>\n",
       "    </tr>\n",
       "    <tr>\n",
       "      <th>44810</th>\n",
       "      <td>44811</td>\n",
       "      <td>Zombie Infection</td>\n",
       "      <td>2</td>\n",
       "      <td>NaN</td>\n",
       "      <td>INVASION IS UNAVOIDABLESomeone was trying to f...</td>\n",
       "    </tr>\n",
       "    <tr>\n",
       "      <th>44811</th>\n",
       "      <td>44812</td>\n",
       "      <td>Zombie Infectonator  Plague And Infect Them Al...</td>\n",
       "      <td>2</td>\n",
       "      <td>More by Romit Dodhia\\n    \\n\\n\\n\\n\\n\\n\\n\\nTub...</td>\n",
       "      <td>Zombies are already odd by nature. What would...</td>\n",
       "    </tr>\n",
       "    <tr>\n",
       "      <th>44812</th>\n",
       "      <td>44813</td>\n",
       "      <td>Zombie Infestation</td>\n",
       "      <td>4</td>\n",
       "      <td>More iPhone Apps by Tugrul Erden\\n    \\n\\n\\n\\...</td>\n",
       "      <td>TARGET IOS VERSION 6.0 AND OVERNOT FOR IPAD O...</td>\n",
       "    </tr>\n",
       "    <tr>\n",
       "      <th>44813</th>\n",
       "      <td>44814</td>\n",
       "      <td>Zombie INTERN</td>\n",
       "      <td>2</td>\n",
       "      <td>More by Pronetis\\n    \\n\\n\\n\\n\\n\\n\\n\\nGyroSph...</td>\n",
       "      <td>Here at Company Incorporated, we dont fear th...</td>\n",
       "    </tr>\n",
       "    <tr>\n",
       "      <th>44814</th>\n",
       "      <td>44815</td>\n",
       "      <td>Zombie Invader</td>\n",
       "      <td>3</td>\n",
       "      <td>More by Jason Stafford\\n    \\n\\n\\n\\n\\n\\n\\nPha...</td>\n",
       "      <td>Cool Game called Zombie Invader, If you love ...</td>\n",
       "    </tr>\n",
       "    <tr>\n",
       "      <th>44815</th>\n",
       "      <td>44816</td>\n",
       "      <td>Zombie Invasion</td>\n",
       "      <td>3</td>\n",
       "      <td>More iPhone Apps by Conniption Entertainment\\n...</td>\n",
       "      <td>THE ZOMBIES ARE COMING!WHAT PLAYERS ARE SAYIN...</td>\n",
       "    </tr>\n",
       "    <tr>\n",
       "      <th>44816</th>\n",
       "      <td>44817</td>\n",
       "      <td>Zombie Invasion  Smash em All</td>\n",
       "      <td>3</td>\n",
       "      <td>More by SensusTech LLC\\n    \\n\\n\\n\\n\\n\\n\\n\\nG...</td>\n",
       "      <td>Get ready to defend world as a horde of zombie...</td>\n",
       "    </tr>\n",
       "    <tr>\n",
       "      <th>44817</th>\n",
       "      <td>44818</td>\n",
       "      <td>Zombie Invasion 2</td>\n",
       "      <td>3</td>\n",
       "      <td>More iPad Apps by Conniption Entertainment\\n ...</td>\n",
       "      <td>*** SALE! For a limited time Zombie Invasion 2...</td>\n",
       "    </tr>\n",
       "    <tr>\n",
       "      <th>44818</th>\n",
       "      <td>44819</td>\n",
       "      <td>Zombie Invasion Defense</td>\n",
       "      <td>2</td>\n",
       "      <td>More by Bazimo GmbH\\n    \\n\\n\\n\\n\\n\\n\\n\\nCandy...</td>\n",
       "      <td>The city was invaded by viruses and turned mo...</td>\n",
       "    </tr>\n",
       "    <tr>\n",
       "      <th>44819</th>\n",
       "      <td>44820</td>\n",
       "      <td>Zombie Invasion</td>\n",
       "      <td>4</td>\n",
       "      <td>More by Joy Sachok\\n    \\n\\n\\n\\n\\n\\n\\n\\nA Sti...</td>\n",
       "      <td>Zombie Invasion is an creepy survival game ma...</td>\n",
       "    </tr>\n",
       "    <tr>\n",
       "      <th>44820</th>\n",
       "      <td>44821</td>\n",
       "      <td>Zombie Invasion Kill Zombies  Zombie Killer</td>\n",
       "      <td>3</td>\n",
       "      <td>More iPhone Apps by WU LI\\n    \\n\\n\\n\\n\\n\\n\\n...</td>\n",
       "      <td>Hit the zombies, don't let them fight you back...</td>\n",
       "    </tr>\n",
       "    <tr>\n",
       "      <th>44821</th>\n",
       "      <td>44822</td>\n",
       "      <td>Zombie Invasion Sniper</td>\n",
       "      <td>4</td>\n",
       "      <td>More by Oleg Myakishev\\n    \\n\\n\\n\\n\\n\\n\\n\\nB...</td>\n",
       "      <td>Play our game Zombie Invasion Sniper 3D and be...</td>\n",
       "    </tr>\n",
       "    <tr>\n",
       "      <th>44822</th>\n",
       "      <td>44823</td>\n",
       "      <td>Zombie Invasion Sniper  Pro</td>\n",
       "      <td>4</td>\n",
       "      <td>More by LLC It Works\\n    \\n\\n\\n\\n\\n\\n\\n\\nSpo...</td>\n",
       "      <td>Play our game Zombie Invasion Sniper 3D and be...</td>\n",
       "    </tr>\n",
       "    <tr>\n",
       "      <th>44823</th>\n",
       "      <td>44824</td>\n",
       "      <td>Zombie io opoly</td>\n",
       "      <td>2</td>\n",
       "      <td>More by Mitee Games\\n    \\n\\n\\n\\n\\n\\n\\n\\nChih...</td>\n",
       "      <td>Zombie io is an action-packed board game. It ...</td>\n",
       "    </tr>\n",
       "    <tr>\n",
       "      <th>44824</th>\n",
       "      <td>44825</td>\n",
       "      <td>Zombie iPocalypse</td>\n",
       "      <td>3</td>\n",
       "      <td>More iPhone Apps by WetWare Mechanic Studios\\...</td>\n",
       "      <td>The pandemic has begun. A Zombie iPocalypse a...</td>\n",
       "    </tr>\n",
       "    <tr>\n",
       "      <th>44825</th>\n",
       "      <td>44826</td>\n",
       "      <td>Zombie Island</td>\n",
       "      <td>3</td>\n",
       "      <td>More by Donald Nelson\\n    \\n\\n\\n\\n\\n\\n\\n\\nAf...</td>\n",
       "      <td>Choose to be a hero or heroine on Zombie Isla...</td>\n",
       "    </tr>\n",
       "    <tr>\n",
       "      <th>44826</th>\n",
       "      <td>44827</td>\n",
       "      <td>Zombie Island  Zombie Games</td>\n",
       "      <td>1</td>\n",
       "      <td>More by Akash Patel\\n    \\n\\n\\n\\n\\n\\n\\n\\nFash...</td>\n",
       "      <td>Zombie Island is popular puzzle game. In each ...</td>\n",
       "    </tr>\n",
       "    <tr>\n",
       "      <th>44827</th>\n",
       "      <td>44828</td>\n",
       "      <td>Zombie IslandDevour the city</td>\n",
       "      <td>1</td>\n",
       "      <td>More by ZPLAY\\n    \\n\\n\\n\\n\\n\\n\\n\\nThe Little...</td>\n",
       "      <td>Zombie island is an original zombie game.Lead...</td>\n",
       "    </tr>\n",
       "    <tr>\n",
       "      <th>44828</th>\n",
       "      <td>44829</td>\n",
       "      <td>Zombie Jammer Rush  Epic Water Highway Trip</td>\n",
       "      <td>2</td>\n",
       "      <td>More by glenn taylor\\n    \\n\\n\\n\\n\\n\\n\\n\\nSant...</td>\n",
       "      <td>Take your Zombie out on your speed boat and r...</td>\n",
       "    </tr>\n",
       "    <tr>\n",
       "      <th>44829</th>\n",
       "      <td>44830</td>\n",
       "      <td>Zombie Jammer Rush  Epic Water Highway Trip</td>\n",
       "      <td>1</td>\n",
       "      <td>More by glenn taylor\\n    \\n\\n\\n\\n\\n\\n\\n\\nSant...</td>\n",
       "      <td>Take your Zombie out on your speed boat and r...</td>\n",
       "    </tr>\n",
       "    <tr>\n",
       "      <th>44830</th>\n",
       "      <td>44831</td>\n",
       "      <td>Zombie Jeep Gunner</td>\n",
       "      <td>4</td>\n",
       "      <td>More by Dirtymartini\\n    \\n\\n\\n\\n\\n\\n\\n\\nDea...</td>\n",
       "      <td>You play a jeep gunner in a female special for...</td>\n",
       "    </tr>\n",
       "    <tr>\n",
       "      <th>44831</th>\n",
       "      <td>44832</td>\n",
       "      <td>Zombie Jet Speed Boat  Multiplayer Fun with Fr...</td>\n",
       "      <td>1</td>\n",
       "      <td>More iPhone Apps by Secret Giant Productions ...</td>\n",
       "      <td>Oooops the Zombie apocalypse has started  Jum...</td>\n",
       "    </tr>\n",
       "    <tr>\n",
       "      <th>44832</th>\n",
       "      <td>44833</td>\n",
       "      <td>Zombie Jetpack</td>\n",
       "      <td>3</td>\n",
       "      <td>More by Ezone.com\\n    \\n\\n\\n\\n\\n\\n\\n\\nTeam A...</td>\n",
       "      <td>Get your Zombie and Flappy fix all in one gam...</td>\n",
       "    </tr>\n",
       "    <tr>\n",
       "      <th>44833</th>\n",
       "      <td>44834</td>\n",
       "      <td>Zombie Jetpack Robber</td>\n",
       "      <td>1</td>\n",
       "      <td>More by Yannay Technologies LLC\\n    \\n\\n\\n\\n...</td>\n",
       "      <td>All the Zombie Fans..Don't miss the chance to ...</td>\n",
       "    </tr>\n",
       "    <tr>\n",
       "      <th>44834</th>\n",
       "      <td>44835</td>\n",
       "      <td>Zombie Jetpack</td>\n",
       "      <td>2</td>\n",
       "      <td>More by Kinetix\\n    \\n\\n\\n\\n\\n\\n\\n\\nBaby Sig...</td>\n",
       "      <td>Zombie Jetpack is a fun filled and action pac...</td>\n",
       "    </tr>\n",
       "    <tr>\n",
       "      <th>44835</th>\n",
       "      <td>44836</td>\n",
       "      <td>Zombie Jewels</td>\n",
       "      <td>1</td>\n",
       "      <td>More by Shouchun Wu\\n    \\n\\n\\n\\n\\n\\n\\n\\nFlap...</td>\n",
       "      <td>Zombie Jewels is a very addictive match 3 puz...</td>\n",
       "    </tr>\n",
       "    <tr>\n",
       "      <th>44836</th>\n",
       "      <td>44837</td>\n",
       "      <td>Zombie Jewels  Match3 Jewel Star</td>\n",
       "      <td>1</td>\n",
       "      <td>More by Dao Thi Duyen\\n    \\n\\n\\n\\n\\n\\n\\n\\nFi...</td>\n",
       "      <td>Zombie Jewels is filled with amazing legend g...</td>\n",
       "    </tr>\n",
       "    <tr>\n",
       "      <th>44837</th>\n",
       "      <td>44838</td>\n",
       "      <td>Zombie Jewels Link Eaten  Jewels Connect Match 3</td>\n",
       "      <td>1</td>\n",
       "      <td>More by Vu Quang Hung\\n    \\n\\n\\n\\n\\n\\n\\n\\nSh...</td>\n",
       "      <td>Zombie Jewels Link Eaten - Jewels Connect Mat...</td>\n",
       "    </tr>\n",
       "    <tr>\n",
       "      <th>44838</th>\n",
       "      <td>44839</td>\n",
       "      <td>Zombie Jewels Puzzle</td>\n",
       "      <td>1</td>\n",
       "      <td>More by Dang Huu Hung\\n    \\n\\n\\n\\n\\n\\n\\n\\nBu...</td>\n",
       "      <td>Download the best jewels match-3 game now!. M...</td>\n",
       "    </tr>\n",
       "    <tr>\n",
       "      <th>44839</th>\n",
       "      <td>44840</td>\n",
       "      <td>Zombie Judgment Day F</td>\n",
       "      <td>3</td>\n",
       "      <td>More by Dai-Hyun Kwon\\n    \\n\\n\\n\\n\\n\\n\\n\\nCo...</td>\n",
       "      <td>If you don't like Ad, Please Check Paid versio...</td>\n",
       "    </tr>\n",
       "  </tbody>\n",
       "</table>\n",
       "<p>44840 rows × 5 columns</p>\n",
       "</div>"
      ],
      "text/plain": [
       "        i_id                                             i_name  i_level  \\\n",
       "0          1                         777 My Slots Machines Rich        3   \n",
       "1          2                 777 My Slots Machines Vegas Casino        3   \n",
       "2          3                   777 My Slots Rich Casino Amazing        3   \n",
       "3          4                     777 My Slots Rich Casino Vegas        3   \n",
       "4          5                          777 My Vegas Casino Slots        3   \n",
       "5          6                777 My Vegas Classic Slots Machines        3   \n",
       "6          7                                          777 Abing        3   \n",
       "7          8                                a 777 abingo Casino        3   \n",
       "8          9                                 a 777 ABluto Coins        3   \n",
       "9         10                             777 Abuse Casino Vegas        3   \n",
       "10        11                                  aaadzebyss Casino        3   \n",
       "11        12                                 a ABlack Tie Slots        3   \n",
       "12        13                        Absolut Amazing Magic Slots        3   \n",
       "13        14                             Adventure Robots Slots        3   \n",
       "14        15                                    Ah Ibiza Casino        3   \n",
       "15        16                 Hard Loaded Macau  Gambling Winner        3   \n",
       "16        17   rm  The alarm clock you can stop with your voice        1   \n",
       "17        18                                           AB Maths        1   \n",
       "18        19                                   AKs Wedding Game        1   \n",
       "19        20                             Amollang  Motley Birds        1   \n",
       "20        21                        Zombie Rider  Highway Racer        1   \n",
       "21        22    All American Slot Games  Play Vegas Style Slots        3   \n",
       "22        23  AStar Shooter Battle field   Best  target army...        4   \n",
       "23        24  AStar Sniper Elite Battle field   Best  target...        4   \n",
       "24        25                      300 Sight Words Learn to Read        1   \n",
       "25        26      bys Classic 777   American Vegas Slot Machine        3   \n",
       "26        27                                         Ace 2 King        3   \n",
       "27        28  Ace Amazon Forest Slots  spin animal jungle to...        3   \n",
       "28        29  Ace Blackjack 21 Master Trainer  Best Top Fun ...        4   \n",
       "29        30  Ace Pharaohs Slots   Big Casino Games Roulette...        3   \n",
       "...      ...                                                ...      ...   \n",
       "44810  44811                                   Zombie Infection        2   \n",
       "44811  44812  Zombie Infectonator  Plague And Infect Them Al...        2   \n",
       "44812  44813                                 Zombie Infestation        4   \n",
       "44813  44814                                      Zombie INTERN        2   \n",
       "44814  44815                                     Zombie Invader        3   \n",
       "44815  44816                                    Zombie Invasion        3   \n",
       "44816  44817                      Zombie Invasion  Smash em All        3   \n",
       "44817  44818                                  Zombie Invasion 2        3   \n",
       "44818  44819                            Zombie Invasion Defense        2   \n",
       "44819  44820                                    Zombie Invasion        4   \n",
       "44820  44821        Zombie Invasion Kill Zombies  Zombie Killer        3   \n",
       "44821  44822                             Zombie Invasion Sniper        4   \n",
       "44822  44823                        Zombie Invasion Sniper  Pro        4   \n",
       "44823  44824                                    Zombie io opoly        2   \n",
       "44824  44825                                  Zombie iPocalypse        3   \n",
       "44825  44826                                      Zombie Island        3   \n",
       "44826  44827                        Zombie Island  Zombie Games        1   \n",
       "44827  44828                       Zombie IslandDevour the city        1   \n",
       "44828  44829        Zombie Jammer Rush  Epic Water Highway Trip        2   \n",
       "44829  44830        Zombie Jammer Rush  Epic Water Highway Trip        1   \n",
       "44830  44831                                 Zombie Jeep Gunner        4   \n",
       "44831  44832  Zombie Jet Speed Boat  Multiplayer Fun with Fr...        1   \n",
       "44832  44833                                     Zombie Jetpack        3   \n",
       "44833  44834                              Zombie Jetpack Robber        1   \n",
       "44834  44835                                     Zombie Jetpack        2   \n",
       "44835  44836                                      Zombie Jewels        1   \n",
       "44836  44837                   Zombie Jewels  Match3 Jewel Star        1   \n",
       "44837  44838   Zombie Jewels Link Eaten  Jewels Connect Match 3        1   \n",
       "44838  44839                               Zombie Jewels Puzzle        1   \n",
       "44839  44840                              Zombie Judgment Day F        3   \n",
       "\n",
       "                                             i_developer  \\\n",
       "0       More by Samuel Moreira\\n    \\n\\n\\n\\n\\n\\n\\n\\n*...   \n",
       "1       More by Samuel Moreira\\n    \\n\\n\\n\\n\\n\\n\\n\\n*...   \n",
       "2       More by Samuel Moreira\\n    \\n\\n\\n\\n\\n\\n\\n\\n*...   \n",
       "3       More by Samuel Moreira\\n    \\n\\n\\n\\n\\n\\n\\n\\n*...   \n",
       "4       More by Samuel Moreira\\n    \\n\\n\\n\\n\\n\\n\\n\\n*...   \n",
       "5       More by Samuel Moreira\\n    \\n\\n\\n\\n\\n\\n\\n\\n*...   \n",
       "6       More by Andre Moreira\\n    \\n\\n\\n\\n\\n\\n\\n\\nA ...   \n",
       "7       More by Andre Moreira\\n    \\n\\n\\n\\n\\n\\n\\n\\nA ...   \n",
       "8       More by Andre Moreira\\n    \\n\\n\\n\\n\\n\\n\\n\\nA ...   \n",
       "9       More by Andre Moreira\\n    \\n\\n\\n\\n\\n\\n\\n\\nA ...   \n",
       "10      More by Andre Moreira\\n    \\n\\n\\n\\n\\n\\n\\n\\nA ...   \n",
       "11      More by Andre Moreira\\n    \\n\\n\\n\\n\\n\\n\\n\\nA ...   \n",
       "12      More by Andre Moreira\\n    \\n\\n\\n\\n\\n\\n\\n\\nA ...   \n",
       "13      More by Andre Moreira\\n    \\n\\n\\n\\n\\n\\n\\n\\nA ...   \n",
       "14      More by Andre Moreira\\n    \\n\\n\\n\\n\\n\\n\\n\\nA ...   \n",
       "15      More by thais morelli\\n    \\n\\n\\n\\n\\n\\n\\n\\nTr...   \n",
       "16      More iPhone Apps by SYSMIGO\\n    \\n\\n\\n\\n\\n\\n...   \n",
       "17     More by Kevin Christy\\n    \\n\\n\\n\\n\\n\\n\\n\\naar...   \n",
       "18                                                   NaN   \n",
       "19      More by Song-haeng Lee\\n    \\n\\n\\n\\n\\n\\n\\n\\nJ...   \n",
       "20      More by Aamir Elahi\\n    \\n\\n\\n\\n\\n\\n\\n\\nHall...   \n",
       "21      More by James Gurkin\\n    \\n\\n\\n\\n\\n\\n\\n\\nAAA...   \n",
       "22      More by Delta Duck Studios\\n    \\n\\n\\n\\n\\n\\n\\...   \n",
       "23      More by Kelvin Weng\\n    \\n\\n\\n\\n\\n\\n\\n\\nDino...   \n",
       "24      More iPhone Apps by CrazyIapps\\n    \\n\\n\\n\\n\\...   \n",
       "25     More by FantAPPstic Apps\\n    \\n\\n\\n\\n\\n\\n\\n\\n...   \n",
       "26      More iPhone Apps by Super Art Software\\n    \\...   \n",
       "27      More by Siroj Chongkolwanont\\n    \\n\\n\\n\\n\\n\\...   \n",
       "28      More by Tasnim Ahmed\\n    \\n\\n\\n\\n\\n\\n\\n\\nEmo...   \n",
       "29      More by Nikolay Petrov\\n    \\n\\n\\n\\n\\n\\n\\n\\nA...   \n",
       "...                                                  ...   \n",
       "44810                                                NaN   \n",
       "44811   More by Romit Dodhia\\n    \\n\\n\\n\\n\\n\\n\\n\\nTub...   \n",
       "44812   More iPhone Apps by Tugrul Erden\\n    \\n\\n\\n\\...   \n",
       "44813   More by Pronetis\\n    \\n\\n\\n\\n\\n\\n\\n\\nGyroSph...   \n",
       "44814   More by Jason Stafford\\n    \\n\\n\\n\\n\\n\\n\\nPha...   \n",
       "44815  More iPhone Apps by Conniption Entertainment\\n...   \n",
       "44816   More by SensusTech LLC\\n    \\n\\n\\n\\n\\n\\n\\n\\nG...   \n",
       "44817   More iPad Apps by Conniption Entertainment\\n ...   \n",
       "44818  More by Bazimo GmbH\\n    \\n\\n\\n\\n\\n\\n\\n\\nCandy...   \n",
       "44819   More by Joy Sachok\\n    \\n\\n\\n\\n\\n\\n\\n\\nA Sti...   \n",
       "44820   More iPhone Apps by WU LI\\n    \\n\\n\\n\\n\\n\\n\\n...   \n",
       "44821   More by Oleg Myakishev\\n    \\n\\n\\n\\n\\n\\n\\n\\nB...   \n",
       "44822   More by LLC It Works\\n    \\n\\n\\n\\n\\n\\n\\n\\nSpo...   \n",
       "44823   More by Mitee Games\\n    \\n\\n\\n\\n\\n\\n\\n\\nChih...   \n",
       "44824   More iPhone Apps by WetWare Mechanic Studios\\...   \n",
       "44825   More by Donald Nelson\\n    \\n\\n\\n\\n\\n\\n\\n\\nAf...   \n",
       "44826   More by Akash Patel\\n    \\n\\n\\n\\n\\n\\n\\n\\nFash...   \n",
       "44827   More by ZPLAY\\n    \\n\\n\\n\\n\\n\\n\\n\\nThe Little...   \n",
       "44828  More by glenn taylor\\n    \\n\\n\\n\\n\\n\\n\\n\\nSant...   \n",
       "44829  More by glenn taylor\\n    \\n\\n\\n\\n\\n\\n\\n\\nSant...   \n",
       "44830   More by Dirtymartini\\n    \\n\\n\\n\\n\\n\\n\\n\\nDea...   \n",
       "44831   More iPhone Apps by Secret Giant Productions ...   \n",
       "44832   More by Ezone.com\\n    \\n\\n\\n\\n\\n\\n\\n\\nTeam A...   \n",
       "44833   More by Yannay Technologies LLC\\n    \\n\\n\\n\\n...   \n",
       "44834   More by Kinetix\\n    \\n\\n\\n\\n\\n\\n\\n\\nBaby Sig...   \n",
       "44835   More by Shouchun Wu\\n    \\n\\n\\n\\n\\n\\n\\n\\nFlap...   \n",
       "44836   More by Dao Thi Duyen\\n    \\n\\n\\n\\n\\n\\n\\n\\nFi...   \n",
       "44837   More by Vu Quang Hung\\n    \\n\\n\\n\\n\\n\\n\\n\\nSh...   \n",
       "44838   More by Dang Huu Hung\\n    \\n\\n\\n\\n\\n\\n\\n\\nBu...   \n",
       "44839   More by Dai-Hyun Kwon\\n    \\n\\n\\n\\n\\n\\n\\n\\nCo...   \n",
       "\n",
       "                                           i_description  \n",
       "0       Download the best Slot experience for free to...  \n",
       "1       Download the best Slot experience for free to...  \n",
       "2       Download the best Slot experience for free to...  \n",
       "3       Download the best Slot experience for free to...  \n",
       "4       Download the best Slot experience for free to...  \n",
       "5       Download the best Slot experience for free to...  \n",
       "6       Download the best Slot experience for free to...  \n",
       "7       Download the best Slot experience for free to...  \n",
       "8       Download the best Slot experience for free to...  \n",
       "9       Download the best Slot experience for free to...  \n",
       "10      Download the best Slot experience for free to...  \n",
       "11      Download the best Slot experience for free to...  \n",
       "12      Download the best Slot experience for free to...  \n",
       "13      Download the best Slot experience for free to...  \n",
       "14      Download the best Slot experience for free to...  \n",
       "15     BIG WIN JACKPOTS ON MOBILE! PLAY A A Hard Load...  \n",
       "16     A!arm is probably the best thing after sleepin...  \n",
       "17      This is the best application by age for learn...  \n",
       "18     A&K's wedding game is an amazing adventure unt...  \n",
       "19     Forget about Flappy Bird! Here is the new type...  \n",
       "20      In Zombie Road Rider the rules are simple - e...  \n",
       "21      Embrace the American spirit and play Las Vega...  \n",
       "22      100% FREE GAME with ALL WEAPONS UNLOCKED ACTI...  \n",
       "23      100% FREE GAME with ALL WEAPONS UNLOCKED ACTI...  \n",
       "24      Sight Words, also know as the dolch words are...  \n",
       "25      The classical slots is totally fun, excitemen...  \n",
       "26      This game is to flip the 13 cards in correct ...  \n",
       "27      Play A+ Ace Amazon Forest Slots, the only Slo...  \n",
       "28      Blackjack 21 Master Trainer Is going to bring...  \n",
       "29     Welcome to A+ Ace Pharaoh's Slots - entire cas...  \n",
       "...                                                  ...  \n",
       "44810  INVASION IS UNAVOIDABLESomeone was trying to f...  \n",
       "44811   Zombies are already odd by nature. What would...  \n",
       "44812   TARGET IOS VERSION 6.0 AND OVERNOT FOR IPAD O...  \n",
       "44813   Here at Company Incorporated, we dont fear th...  \n",
       "44814   Cool Game called Zombie Invader, If you love ...  \n",
       "44815   THE ZOMBIES ARE COMING!WHAT PLAYERS ARE SAYIN...  \n",
       "44816  Get ready to defend world as a horde of zombie...  \n",
       "44817  *** SALE! For a limited time Zombie Invasion 2...  \n",
       "44818   The city was invaded by viruses and turned mo...  \n",
       "44819   Zombie Invasion is an creepy survival game ma...  \n",
       "44820  Hit the zombies, don't let them fight you back...  \n",
       "44821  Play our game Zombie Invasion Sniper 3D and be...  \n",
       "44822  Play our game Zombie Invasion Sniper 3D and be...  \n",
       "44823   Zombie io is an action-packed board game. It ...  \n",
       "44824   The pandemic has begun. A Zombie iPocalypse a...  \n",
       "44825   Choose to be a hero or heroine on Zombie Isla...  \n",
       "44826  Zombie Island is popular puzzle game. In each ...  \n",
       "44827   Zombie island is an original zombie game.Lead...  \n",
       "44828   Take your Zombie out on your speed boat and r...  \n",
       "44829   Take your Zombie out on your speed boat and r...  \n",
       "44830  You play a jeep gunner in a female special for...  \n",
       "44831   Oooops the Zombie apocalypse has started  Jum...  \n",
       "44832   Get your Zombie and Flappy fix all in one gam...  \n",
       "44833  All the Zombie Fans..Don't miss the chance to ...  \n",
       "44834   Zombie Jetpack is a fun filled and action pac...  \n",
       "44835   Zombie Jewels is a very addictive match 3 puz...  \n",
       "44836   Zombie Jewels is filled with amazing legend g...  \n",
       "44837   Zombie Jewels Link Eaten - Jewels Connect Mat...  \n",
       "44838   Download the best jewels match-3 game now!. M...  \n",
       "44839  If you don't like Ad, Please Check Paid versio...  \n",
       "\n",
       "[44840 rows x 5 columns]"
      ]
     },
     "execution_count": 51,
     "metadata": {},
     "output_type": "execute_result"
    }
   ],
   "source": [
    "idf"
   ]
  },
  {
   "cell_type": "code",
   "execution_count": 52,
   "metadata": {
    "collapsed": true
   },
   "outputs": [],
   "source": [
    "choices = idf['i_name'].tolist()"
   ]
  },
  {
   "cell_type": "code",
   "execution_count": 9,
   "metadata": {
    "collapsed": false
   },
   "outputs": [
    {
     "data": {
      "text/plain": [
       "(13354, 5)"
      ]
     },
     "execution_count": 9,
     "metadata": {},
     "output_type": "execute_result"
    }
   ],
   "source": [
    "# only match with the iOS non-level 1 apps\n",
    "idf[idf['i_level']!=1].shape"
   ]
  },
  {
   "cell_type": "code",
   "execution_count": 10,
   "metadata": {
    "collapsed": true
   },
   "outputs": [],
   "source": [
    "no1choices = idf[idf['i_level']!=1].i_name.tolist()"
   ]
  },
  {
   "cell_type": "code",
   "execution_count": 11,
   "metadata": {
    "collapsed": false
   },
   "outputs": [
    {
     "data": {
      "text/plain": [
       "13354"
      ]
     },
     "execution_count": 11,
     "metadata": {},
     "output_type": "execute_result"
    }
   ],
   "source": [
    "len(no1choices)"
   ]
  },
  {
   "cell_type": "code",
   "execution_count": 56,
   "metadata": {
    "collapsed": true
   },
   "outputs": [],
   "source": [
    "#preprocessing adf \n",
    "def preprocess_adf(row):   \n",
    "\n",
    "    s = str(row['a_name'])\n",
    "    \n",
    "    new_s = ''.join([ch for ch in s if ch not in string.punctuation])\n",
    "    \n",
    "    new_s = new_s.replace('FREE','').replace('Free','').replace('3D','').replace('HD','')\n",
    "    new_s = new_s.replace('AAA','').replace('AA','').replace('Aaa','').replace('Aa','').replace('A1','').replace('A ','')\n",
    "    row[\"new_a_name\"] = new_s.strip()\n",
    "    \n",
    "    return row"
   ]
  },
  {
   "cell_type": "code",
   "execution_count": 57,
   "metadata": {
    "collapsed": false
   },
   "outputs": [],
   "source": [
    "adf = adf.apply(preprocess_adf,axis =1)"
   ]
  },
  {
   "cell_type": "code",
   "execution_count": 53,
   "metadata": {
    "collapsed": true
   },
   "outputs": [],
   "source": [
    "def exactmatch(row):\n",
    "    if str(row['new_a_name']) in choices:\n",
    "        row['i_name'] = str(row['new_a_name'])\n",
    "        row['score'] = 100\n",
    "    return row"
   ]
  },
  {
   "cell_type": "code",
   "execution_count": 58,
   "metadata": {
    "collapsed": true
   },
   "outputs": [],
   "source": [
    "adf = adf.apply(exactmatch,axis =1)"
   ]
  },
  {
   "cell_type": "code",
   "execution_count": 59,
   "metadata": {
    "collapsed": false
   },
   "outputs": [
    {
     "data": {
      "text/plain": [
       "(635, 9)"
      ]
     },
     "execution_count": 59,
     "metadata": {},
     "output_type": "execute_result"
    }
   ],
   "source": [
    "adf[adf['score']==100].shape"
   ]
  },
  {
   "cell_type": "code",
   "execution_count": 15,
   "metadata": {
    "collapsed": false
   },
   "outputs": [
    {
     "data": {
      "text/plain": [
       "(28538, 8)"
      ]
     },
     "execution_count": 15,
     "metadata": {},
     "output_type": "execute_result"
    }
   ],
   "source": [
    "adf2 = adf[adf['score']!=100] #no exact match\n",
    "adf2.shape"
   ]
  },
  {
   "cell_type": "code",
   "execution_count": 21,
   "metadata": {
    "collapsed": false
   },
   "outputs": [
    {
     "data": {
      "text/plain": [
       "Casual          5103\n",
       "Puzzle          4794\n",
       "Arcade          3330\n",
       "Simulation      3209\n",
       "Sports          2538\n",
       "Racing          2129\n",
       "Educational     1945\n",
       "Adventure       1290\n",
       "Trivia           848\n",
       "Action           784\n",
       "Word             651\n",
       "Card             514\n",
       "Board            492\n",
       "Role Playing     374\n",
       "Music            304\n",
       "Strategy         211\n",
       "Casino            22\n",
       "Name: a_category, dtype: int64"
      ]
     },
     "execution_count": 21,
     "metadata": {},
     "output_type": "execute_result"
    }
   ],
   "source": [
    "adf2['a_category'].value_counts()"
   ]
  },
  {
   "cell_type": "code",
   "execution_count": 29,
   "metadata": {
    "collapsed": false
   },
   "outputs": [
    {
     "data": {
      "text/plain": [
       "(11349, 8)"
      ]
     },
     "execution_count": 29,
     "metadata": {},
     "output_type": "execute_result"
    }
   ],
   "source": [
    "#only keep suspicious category\n",
    "to_keep = ['Arcade','Simulation','Racing','Adventure','Action','Role Playing','Strategy','Casino']\n",
    "adf2=adf2[adf2['a_category'].isin(to_keep)]\n",
    "adf2.shape"
   ]
  },
  {
   "cell_type": "code",
   "execution_count": 30,
   "metadata": {
    "collapsed": true
   },
   "outputs": [
    {
     "name": "stderr",
     "output_type": "stream",
     "text": [
      "/Users/gongzeyang/anaconda/lib/python2.7/site-packages/xlsxwriter/worksheet.py:829: UserWarning: Ignoring URL 'https://www.youtube.com/watch?vR6Fw8a0hk%20This%203D%20game%20is%20all%20free,%20just%20download%20and%20playing%20this%203D%20nice%20fantastic%20game.%20You%20like%20sports,%20and%20your%20passion%20is%20high%20speed%20on%20high%20racing%20road%20with%20super%20sports%20car,%20just%20play%20this%20game.%20This%20is%20very%20basic%20of%20car%20sports%20racing,%20rally%20game.%20Riding,%20rally%20your%20sports%20super%20car%20with%20high%20speed%20on%20racing%20road%20and%20nice%20fantastic%20environment,%20doing%20some%20more%20thrilling%20and%20relaxing%20with%20some%20more%20drifting%20your%20super%20sports%20car%20on%20racing%20highway%20is%20much%20funny%20and%20exciting.%20Just%20take%20your%20dream%20sports%20super%20car%20and%20start%20your%20racing.%20How%20to%20play%20This%20game%20is%20very%20easy%20to%20play,%20with%20some%20simple%20buttons.%20Just%20press%20gas%20button%20and%20speed%20up%20your%20dreams%20sports%20cars%20on%20speed%20high%20racing%20road.%20You're%20highway%20star.%20There're%20gas,%20break%20and%20change%20view%20control%20buttons%20to%20play,%20that's%20much%20easy%20%20Gas,%20break%20buttons%20to%20control%20your%20racing%20,%20rally%20car%20%20Swing%20your%20device%20to%20control%20your%20car%20steering%20%20Automatic%20gear%20of%20your%20racing%20,%20rally%20car%20%20Camera%20button%20to%20change%20your%20view%20of%20racing%20,%20rally%20car%20Features:%20%20Amazing%20realistic%20graphics%20of%20super%20sports%20cars%20,%20nice%20racing%20road%20and%20fantastic%20environment%20%20Simple%20controls%20buttons%20with%20gas,%20break%20ones%20to%20do%20your%20racing,%20rally%20dream%20super%20sports%20cars%20on%20racing%20road%20fantastic%20environment%20%20Swing%20your%20device%20to%20control%20your%20super%20sports%20racing,%20rally%20cars%20%20Automatic%20controlling%20gear%20of%20your%20racing,%20rally%20sports%20super%20cars%20%20Camera%20button%20to%20change%20your%20vision%20of%20racing%20,%20rally%20super%20sports%20cars' with link or location/anchor > 255 characters since it exceeds Excel's limit for URLS\n",
      "  force_unicode(url))\n",
      "/Users/gongzeyang/anaconda/lib/python2.7/site-packages/xlsxwriter/worksheet.py:829: UserWarning: Ignoring URL 'https://www.youtube.com/watch?vLaupRbL09H0&featureyoutu.be%20This%20free%203D%20truck%20car%20champion%20racing,%20rally%20game%20is%20all%20free,%20just%20download%20and%20playing%20this%20free%203D%20nice%20fantastic%20winter%20snowy%20truck%20car%20racing%20game.%20Now%20you%20can%20become%20a%20true%20champion%20of%20truck%20car%20racing.%20This%20amazing%203D%20truck%20car%20racing%20free%20game%20lets%20you%20drive%20fast%20truck%20car%20and%20winning%20championships%20with%20high%20speeds.%20%20You%20like%20sports,%20and%20your%20passion%20is%20high%20speeds%20on%20high%20racing%20road%20with%20super%20sports%20car,%20just%20play%20this%20free%203D%20truck%20car%20racing%20game.%20This%20is%20very%20basic%20of%20champion%20truck%20car%20sports%20racing,%20rally%20game.%20Racing,%20rally%20your%20sports%20super%20truck%20car%20with%20high%20speed%20on%20racing%20road%20and%20nice%20fantastic%20winter%20snowy%20environment,%20doing%20some%20more%20thrilling%20and%20relaxing%20with%20some%20drifting%20your%20super%20sports%20truck%20car%20on%20racing%20highway%20and%20take%20champion%20winner%20is%20much%20funny%20and%20exciting.%20Just%20take%20your%20dream%20sports%20super%20truck%20car%20and%20start%20your%20racing.%20%20Challenge%20your%20mind%20with%20artificial%20intelligent%20computer%20%20automatic%20truck%20cars%20opponents%20players%20How%20to%20play%20This%20free%203D%20truck%20car%20racing%20game%20is%20very%20easy%20to%20play,%20with%20some%20simple%20buttons.%20Just%20press%20gas%20button%20and%20speed%20up%20your%20dreams%20sports%20truck%20car%20on%20speed%20high%20racing%20road.%20You're%20highway%20truck%20car%20racing%20star.%20There're%20gas,%20break%20and%20change%20view%20control%20buttons%20to%20play,%20that's%20much%20easy%20%20Gas,%20break%20buttons%20to%20control%20your%20racing%20,%20rally%20truck%20car%20%20Swing%20your%20device%20or%20using%20steering%20buttons%20to%20control%20your%20truck%20car%20steering%20%20Automatic%20gear%20of%20your%20racing%20,%20rally%20truck%20car%20%20Camera%20button%20to%20change%20your%20view%20of%20racing%20,%20rally%20truck%20car%20Features:%20%20Amazing%203D%20realistic%20graphics%20of%20super%20sports%20truck%20cars%20,%20nice%20racing%20rally%20road%20and%20fantastic%20winter%20snowy%20%20environment%20%20Simple%20controls%20buttons%20with%20gas,%20break%20ones%20to%20do%20your%20racing,%20rally%20dream%20super%20sports%20truck%20cars%20on%20racing%20road%20fantastic%20winter%20snowy%20%20environment%20%20Swing%20your%20device%20to%20control%20your%20super%20sports%20racing,%20rally%20truck%20cars%20%20Automatic%20controlling%20gear%20of%20your%20racing,%20rally%20sports%20super%20truck%20cars%20%20Camera%20button%20to%20change%20your%20vision%20of%20racing%20,%20rally%20super%20sports%20truck%20cars%20%205%20more%20AI(Artificial%20Intelligent)%20%20automatic%20truck%20cars%20opponents%20players%20for%20your%20challenge' with link or location/anchor > 255 characters since it exceeds Excel's limit for URLS\n",
      "  force_unicode(url))\n"
     ]
    }
   ],
   "source": [
    "adf2.to_excel('Android_matching_input1.xlsx')"
   ]
  },
  {
   "cell_type": "code",
   "execution_count": 31,
   "metadata": {
    "collapsed": true
   },
   "outputs": [],
   "source": [
    "# try after applying filter\n",
    "def fuzzymatch(row):\n",
    "    i_name,score = process.extractOne(str(row['a_name']),no1choices)\n",
    "    row['i_name'] = i_name\n",
    "    row['score'] = score\n",
    "    \n",
    "    return row"
   ]
  },
  {
   "cell_type": "code",
   "execution_count": 32,
   "metadata": {
    "collapsed": false,
    "scrolled": true
   },
   "outputs": [
    {
     "name": "stdout",
     "output_type": "stream",
     "text": [
      "CPU times: user 9.84 s, sys: 217 ms, total: 10.1 s\n",
      "Wall time: 9.91 s\n"
     ]
    },
    {
     "data": {
      "text/html": [
       "<div>\n",
       "<table border=\"1\" class=\"dataframe\">\n",
       "  <thead>\n",
       "    <tr style=\"text-align: right;\">\n",
       "      <th></th>\n",
       "      <th>a_category</th>\n",
       "      <th>a_description</th>\n",
       "      <th>a_id</th>\n",
       "      <th>a_level</th>\n",
       "      <th>a_name</th>\n",
       "      <th>a_url</th>\n",
       "      <th>i_name</th>\n",
       "      <th>score</th>\n",
       "    </tr>\n",
       "  </thead>\n",
       "  <tbody>\n",
       "    <tr>\n",
       "      <th>9</th>\n",
       "      <td>Strategy</td>\n",
       "      <td>2048 is played on a gray 44 grid, with numbere...</td>\n",
       "      <td>9</td>\n",
       "      <td>1</td>\n",
       "      <td>2048</td>\n",
       "      <td>https://play.google.com/store/apps/details?id=...</td>\n",
       "      <td>2</td>\n",
       "      <td>90</td>\n",
       "    </tr>\n",
       "    <tr>\n",
       "      <th>28</th>\n",
       "      <td>Adventure</td>\n",
       "      <td>Ladybug Subway girl has to pass lots of evil c...</td>\n",
       "      <td>28</td>\n",
       "      <td>1</td>\n",
       "      <td>3D Ladybug Subway Adventure</td>\n",
       "      <td>https://play.google.com/store/apps/details?id=...</td>\n",
       "      <td>Ladybug</td>\n",
       "      <td>90</td>\n",
       "    </tr>\n",
       "    <tr>\n",
       "      <th>29</th>\n",
       "      <td>Adventure</td>\n",
       "      <td>Ladybug super lady is a super addictive game s...</td>\n",
       "      <td>29</td>\n",
       "      <td>1</td>\n",
       "      <td>Adventure Ladybug Challenge</td>\n",
       "      <td>https://play.google.com/store/apps/details?id=...</td>\n",
       "      <td>Ladybug</td>\n",
       "      <td>90</td>\n",
       "    </tr>\n",
       "    <tr>\n",
       "      <th>30</th>\n",
       "      <td>Adventure</td>\n",
       "      <td>Be ready to defend your ship fleet against the...</td>\n",
       "      <td>30</td>\n",
       "      <td>1</td>\n",
       "      <td>Battleship: Sea Navy Attack</td>\n",
       "      <td>https://play.google.com/store/apps/details?id=...</td>\n",
       "      <td>Navy Battleship Attack 3D</td>\n",
       "      <td>89</td>\n",
       "    </tr>\n",
       "    <tr>\n",
       "      <th>34</th>\n",
       "      <td>Simulation</td>\n",
       "      <td>city bus simulator 2016 is a new, supercar dri...</td>\n",
       "      <td>34</td>\n",
       "      <td>1</td>\n",
       "      <td>City Bus Simulator 2016</td>\n",
       "      <td>https://play.google.com/store/apps/details?id=...</td>\n",
       "      <td>2016</td>\n",
       "      <td>90</td>\n",
       "    </tr>\n",
       "  </tbody>\n",
       "</table>\n",
       "</div>"
      ],
      "text/plain": [
       "    a_category                                      a_description  a_id  \\\n",
       "9     Strategy  2048 is played on a gray 44 grid, with numbere...     9   \n",
       "28   Adventure  Ladybug Subway girl has to pass lots of evil c...    28   \n",
       "29   Adventure  Ladybug super lady is a super addictive game s...    29   \n",
       "30   Adventure  Be ready to defend your ship fleet against the...    30   \n",
       "34  Simulation  city bus simulator 2016 is a new, supercar dri...    34   \n",
       "\n",
       "    a_level                        a_name  \\\n",
       "9         1                          2048   \n",
       "28        1   3D Ladybug Subway Adventure   \n",
       "29        1   Adventure Ladybug Challenge   \n",
       "30        1   Battleship: Sea Navy Attack   \n",
       "34        1       City Bus Simulator 2016   \n",
       "\n",
       "                                                a_url  \\\n",
       "9   https://play.google.com/store/apps/details?id=...   \n",
       "28  https://play.google.com/store/apps/details?id=...   \n",
       "29  https://play.google.com/store/apps/details?id=...   \n",
       "30  https://play.google.com/store/apps/details?id=...   \n",
       "34  https://play.google.com/store/apps/details?id=...   \n",
       "\n",
       "                       i_name  score  \n",
       "9                           2     90  \n",
       "28                   Ladybug      90  \n",
       "29                   Ladybug      90  \n",
       "30  Navy Battleship Attack 3D     89  \n",
       "34                       2016     90  "
      ]
     },
     "execution_count": 32,
     "metadata": {},
     "output_type": "execute_result"
    }
   ],
   "source": [
    "%time adf2.iloc[0:5].apply(fuzzymatch, axis=1) #2s/app\n",
    "#it will take 5.5hrs for 1w apps"
   ]
  },
  {
   "cell_type": "code",
   "execution_count": 33,
   "metadata": {
    "collapsed": false
   },
   "outputs": [
    {
     "name": "stdout",
     "output_type": "stream",
     "text": [
      "CPU times: user 31min 15s, sys: 35.7 s, total: 31min 50s\n",
      "Wall time: 1h 29min 57s\n"
     ]
    }
   ],
   "source": [
    "%time adf2 = adf2.iloc[0:1000].apply(fuzzymatch, axis=1) #1hr? \n",
    "adf2.to_excel('Android_matching_output1.xlsx')"
   ]
  },
  {
   "cell_type": "code",
   "execution_count": null,
   "metadata": {
    "collapsed": true
   },
   "outputs": [],
   "source": [
    "## seems that fuzzymatch doesn't work well. "
   ]
  },
  {
   "cell_type": "code",
   "execution_count": 60,
   "metadata": {
    "collapsed": true
   },
   "outputs": [],
   "source": [
    "result = pd.merge(adf,idf,how='left',left_on='i_name',right_on='i_name')"
   ]
  },
  {
   "cell_type": "code",
   "execution_count": 64,
   "metadata": {
    "collapsed": false
   },
   "outputs": [
    {
     "data": {
      "text/plain": [
       "(96, 13)"
      ]
     },
     "execution_count": 64,
     "metadata": {},
     "output_type": "execute_result"
    }
   ],
   "source": [
    "result[result['a_level']==1][result['i_level'].isin([2,3,4])].shape"
   ]
  },
  {
   "cell_type": "code",
   "execution_count": 61,
   "metadata": {
    "collapsed": false
   },
   "outputs": [
    {
     "name": "stderr",
     "output_type": "stream",
     "text": [
      "/Users/gongzeyang/anaconda/lib/python2.7/site-packages/xlsxwriter/worksheet.py:829: UserWarning: Ignoring URL 'http://m.kiniwini.com%20New%20games%20are%20released%20every%20Thursday.%20Receive%20cute%20animals%20to%20look%20after!%20You%20can%20receive%20baby%20animals%20to%20make%20a%20crowded%20zoo.%20If%20you%20feed,%20wash,%20and%20treat%20lovely%20animals,%20they%20can%20evolve%20into%20a%20new%20animal.%20Start%20the%20animal%20judy%20right%20now%20that%20both%20male%20and%20female%20children%20can%20enjoy!!' with link or location/anchor > 255 characters since it exceeds Excel's limit for URLS\n",
      "  force_unicode(url))\n",
      "/Users/gongzeyang/anaconda/lib/python2.7/site-packages/xlsxwriter/worksheet.py:829: UserWarning: Ignoring URL 'http://m.kiniwini.com%20New%20games%20are%20released%20every%20Thursday.%20Create%20delicious%20food%20with%20Judy.%20You%20can%20see%20to%20eat%20by%20creating%20a%20delicious%20food%20in%20a%20variety%20of%20materials%20and%20a%20variety%20of%20cooking%20methods.%20Please%20try%20to%20challenge%20the%20Chef%20King%20is%20played%20the%20food%20that%20was%20decorated%20in%20beautiful%20Chef%20King%20Contest!%20In%20addition,%20you%20can%20decorate%20the%20Judy%20in%20a%20variety%20of%20costumes~%20Please%20start%20right%20now!' with link or location/anchor > 255 characters since it exceeds Excel's limit for URLS\n",
      "  force_unicode(url))\n",
      "/Users/gongzeyang/anaconda/lib/python2.7/site-packages/xlsxwriter/worksheet.py:829: UserWarning: Ignoring URL 'http://m.kiniwini.com%20New%20game%20will%20be%20released%20on%20every%20Thursday%5e%5e%20Cook%20delicious%20dish%20with%20Judy~%20You%20can%20not%20only%20cook%20with%20various%20ingredients%20and%20recipes,%20but%20also%20eat%20the%20cuisine%20you%20made.%20Challenge%20for%20King%20of%20Cooking%20by%20entering%20King%20of%20Cooking%20contest%20with%20food%20you%20have%20decorated!%20You%20can%20also%20decorate%20Judy%20with%20many%20costumes~%20Play%20it%20right%20now!!' with link or location/anchor > 255 characters since it exceeds Excel's limit for URLS\n",
      "  force_unicode(url))\n",
      "/Users/gongzeyang/anaconda/lib/python2.7/site-packages/xlsxwriter/worksheet.py:829: UserWarning: Ignoring URL 'http://m.kiniwini.com%20New%20games%20are%20released%20every%20Thursday.%20Create%20your%20own%20idol%20group%20with%20Judy!%20Pretty%20girl%20group%20personality,%20a%20talented%20solo%20artist,%20I%20can%20make%20it%20as%20you%20like%20to%20fancy%20idol%20duo.%20Beautifully%20decorate%20the%20idol.%20And%20please%20take%20photos.%20Showing%20off%20my%20fashion%20sense%20in%20the%20fashion%20queen%20contest,%20see%20this%20week's%20fashion%20is%20queen!%20If%20you%20are%20eager%20to%20be%20the%20practice%20of%20dance,%20it%20is%20possible%20to%20be%20a%20performance%20on%20the%20stage.%20You%20can%20also%20create%20their%20own%20cartoon%20fun%20and%20easy%20with%20cartoon%20feature!%20Please%20start%20right%20now!' with link or location/anchor > 255 characters since it exceeds Excel's limit for URLS\n",
      "  force_unicode(url))\n"
     ]
    }
   ],
   "source": [
    "result.to_excel('matching_result0411.xlsx')"
   ]
  },
  {
   "cell_type": "code",
   "execution_count": null,
   "metadata": {
    "collapsed": true
   },
   "outputs": [],
   "source": []
  },
  {
   "cell_type": "code",
   "execution_count": null,
   "metadata": {
    "collapsed": true
   },
   "outputs": [],
   "source": []
  }
 ],
 "metadata": {
  "anaconda-cloud": {},
  "kernelspec": {
   "display_name": "Python [default]",
   "language": "python",
   "name": "python2"
  },
  "language_info": {
   "codemirror_mode": {
    "name": "ipython",
    "version": 2
   },
   "file_extension": ".py",
   "mimetype": "text/x-python",
   "name": "python",
   "nbconvert_exporter": "python",
   "pygments_lexer": "ipython2",
   "version": "2.7.12"
  }
 },
 "nbformat": 4,
 "nbformat_minor": 1
}
